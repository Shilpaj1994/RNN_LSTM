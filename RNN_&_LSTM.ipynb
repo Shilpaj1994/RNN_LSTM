{
  "nbformat": 4,
  "nbformat_minor": 0,
  "metadata": {
    "colab": {
      "name": "Copy of Assignment-2.ipynb",
      "version": "0.3.2",
      "provenance": [],
      "collapsed_sections": []
    },
    "kernelspec": {
      "name": "python3",
      "display_name": "Python 3"
    },
    "accelerator": "GPU"
  },
  "cells": [
    {
      "cell_type": "markdown",
      "metadata": {
        "id": "RV__pBbUOF5r",
        "colab_type": "text"
      },
      "source": [
        "### Import Libraries and Dependencies"
      ]
    },
    {
      "cell_type": "code",
      "metadata": {
        "id": "YVpz1VbgfPoK",
        "colab_type": "code",
        "outputId": "f0089b1a-f6fe-44f1-b14c-bc6b8928156e",
        "colab": {
          "base_uri": "https://localhost:8080/",
          "height": 34
        }
      },
      "source": [
        "import sys\n",
        "import numpy\n",
        "from keras.models import Sequential\n",
        "from keras.layers import Dense\n",
        "from keras.layers import Dropout\n",
        "from keras.layers import LSTM\n",
        "from keras.callbacks import ModelCheckpoint\n",
        "from keras.utils import np_utils\n",
        "\n",
        "from keras.preprocessing.sequence import pad_sequences"
      ],
      "execution_count": 1,
      "outputs": [
        {
          "output_type": "stream",
          "text": [
            "Using TensorFlow backend.\n"
          ],
          "name": "stderr"
        }
      ]
    },
    {
      "cell_type": "markdown",
      "metadata": {
        "id": "R42-kma3ONl3",
        "colab_type": "text"
      },
      "source": [
        "### Mount Drive to Import Text Data"
      ]
    },
    {
      "cell_type": "code",
      "metadata": {
        "id": "9Pver1dr0wSV",
        "colab_type": "code",
        "outputId": "e02b6ce9-b65a-45fa-9488-2da35a46ca39",
        "colab": {
          "base_uri": "https://localhost:8080/",
          "height": 138
        }
      },
      "source": [
        "from google.colab import drive\n",
        "drive.mount('/content/gdrive')\n",
        "\n",
        "%cd /content/gdrive/My Drive/Colab Notebooks/EIP Assignments/Assignment-2/"
      ],
      "execution_count": 2,
      "outputs": [
        {
          "output_type": "stream",
          "text": [
            "Go to this URL in a browser: https://accounts.google.com/o/oauth2/auth?client_id=947318989803-6bn6qk8qdgf4n4g3pfee6491hc0brc4i.apps.googleusercontent.com&redirect_uri=urn%3Aietf%3Awg%3Aoauth%3A2.0%3Aoob&scope=email%20https%3A%2F%2Fwww.googleapis.com%2Fauth%2Fdocs.test%20https%3A%2F%2Fwww.googleapis.com%2Fauth%2Fdrive%20https%3A%2F%2Fwww.googleapis.com%2Fauth%2Fdrive.photos.readonly%20https%3A%2F%2Fwww.googleapis.com%2Fauth%2Fpeopleapi.readonly&response_type=code\n",
            "\n",
            "Enter your authorization code:\n",
            "··········\n",
            "Mounted at /content/gdrive\n",
            "/content/gdrive/My Drive/Colab Notebooks/EIP Assignments/Assignment-2\n"
          ],
          "name": "stdout"
        }
      ]
    },
    {
      "cell_type": "markdown",
      "metadata": {
        "id": "F6BIdrrvOUnN",
        "colab_type": "text"
      },
      "source": [
        "### Load the data and convert it to lowercase"
      ]
    },
    {
      "cell_type": "markdown",
      "metadata": {
        "id": "Gr1tXl4iybQX",
        "colab_type": "text"
      },
      "source": [
        " Load the ASCII text for the book into memory and convert all of the characters to lowercase to reduce the vocabulary that the network must learn."
      ]
    },
    {
      "cell_type": "code",
      "metadata": {
        "id": "79NU4MHTxr-i",
        "colab_type": "code",
        "colab": {}
      },
      "source": [
        "# load ascii text and covert to lowercase\n",
        "filename = \"wonderland_without_punctuations.txt\"\n",
        "raw_text = open(filename).read()\n",
        "raw_text = raw_text.lower()"
      ],
      "execution_count": 0,
      "outputs": []
    },
    {
      "cell_type": "markdown",
      "metadata": {
        "id": "FTwOK34gOmlx",
        "colab_type": "text"
      },
      "source": [
        "### Removing Tailing Newline from data"
      ]
    },
    {
      "cell_type": "code",
      "metadata": {
        "id": "WQ9306PaB0BP",
        "colab_type": "code",
        "outputId": "d1c562a9-c783-4d62-bbd3-ef12bc167540",
        "colab": {
          "base_uri": "https://localhost:8080/",
          "height": 54
        }
      },
      "source": [
        "raw_text = raw_text.replace('\\n','')\n",
        "print(raw_text)"
      ],
      "execution_count": 4,
      "outputs": [
        {
          "output_type": "stream",
          "text": [
            "chapter i down the rabbitholealice was beginning to get very tired of sitting by her sister on thebank and of having nothing to do once or twice she had peeped into thebook her sister was reading but it had no pictures or conversations init and what is the use of a book thought alice without pictures orconversationsso she was considering in her own mind as well as she could for thehot day made her feel very sleepy and stupid whether the pleasureof making a daisychain would be worth the trouble of getting up andpicking the daisies when suddenly a white rabbit with pink eyes ranclose by herthere was nothing so very remarkable in that nor did alice think it sovery much out of the way to hear the rabbit say to itself oh dearoh dear i shall be late when she thought it over afterwards itoccurred to her that she ought to have wondered at this but at the timeit all seemed quite natural but when the rabbit actually took a watchout of its waistcoatpocket and looked at it and then hurried onalice started to her feet for it flashed across her mind that she hadnever before seen a rabbit with either a waistcoatpocket or a watchto take out of it and burning with curiosity she ran across the fieldafter it and fortunately was just in time to see it pop down a largerabbithole under the hedgein another moment down went alice after it never once considering howin the world she was to get out againthe rabbithole went straight on like a tunnel for some way and thendipped suddenly down so suddenly that alice had not a moment to thinkabout stopping herself before she found herself falling down a very deepwelleither the well was very deep or she fell very slowly for she hadplenty of time as she went down to look about her and to wonder what wasgoing to happen next first she tried to look down and make out whatshe was coming to but it was too dark to see anything then shelooked at the sides of the well and noticed that they were filled withcupboards and bookshelves here and there she saw maps and pictureshung upon pegs she took down a jar from one of the shelves asshe passed it was labelled orange marmalade but to her greatdisappointment it was empty she did not like to drop the jar for fearof killing somebody so managed to put it into one of the cupboards asshe fell past itwell thought alice to herself after such a fall as this i shallthink nothing of tumbling down stairs how brave theyll all think me athome why i wouldnt say anything about it even if i fell off the topof the house which was very likely truedown down down would the fall never come to an end i wonder howmany miles ive fallen by this time she said aloud i must be gettingsomewhere near the centre of the earth let me see that would be fourthousand miles down i think for you see alice had learnt severalthings of this sort in her lessons in the schoolroom and though thiswas not a very good opportunity for showing off her knowledge as therewas no one to listen to her still it was good practice to say it overyes thats about the right distancebut then i wonder what latitudeor longitude ive got to alice had no idea what latitude was orlongitude either but thought they were nice grand words to saypresently she began again i wonder if i shall fall right through theearth how funny itll seem to come out among the people that walk withtheir heads downward the antipathies i think she was rather gladthere was no one listening this time as it didnt sound at all theright word but i shall have to ask them what the name of the countryis you know please maam is this new zealand or australia andshe tried to curtsey as she spokefancy curtseying as youre fallingthrough the air do you think you could manage it and what anignorant little girl shell think me for asking no itll never do toask perhaps i shall see it written up somewheredown down down there was nothing else to do so alice soon begantalking again dinahll miss me very much tonight i should thinkdinah was the cat i hope theyll remember her saucer of milk atteatime dinah my dear i wish you were down here with me there are nomice in the air im afraid but you might catch a bat and thats verylike a mouse you know but do cats eat bats i wonder and here alicebegan to get rather sleepy and went on saying to herself in a dreamysort of way do cats eat bats do cats eat bats and sometimes dobats eat cats for you see as she couldnt answer either questionit didnt much matter which way she put it she felt that she was dozingoff and had just begun to dream that she was walking hand in hand withdinah and saying to her very earnestly now dinah tell me the truthdid you ever eat a bat when suddenly thump thump down she came upona heap of sticks and dry leaves and the fall was overalice was not a bit hurt and she jumped up on to her feet in a momentshe looked up but it was all dark overhead before her was anotherlong passage and the white rabbit was still in sight hurrying down itthere was not a moment to be lost away went alice like the wind andwas just in time to hear it say as it turned a corner oh my earsand whiskers how late its getting she was close behind it when sheturned the corner but the rabbit was no longer to be seen she foundherself in a long low hall which was lit up by a row of lamps hangingfrom the roofthere were doors all round the hall but they were all locked and whenalice had been all the way down one side and up the other trying everydoor she walked sadly down the middle wondering how she was ever toget out againsuddenly she came upon a little threelegged table all made of solidglass there was nothing on it except a tiny golden key and alicesfirst thought was that it might belong to one of the doors of the hallbut alas either the locks were too large or the key was too smallbut at any rate it would not open any of them however on the secondtime round she came upon a low curtain she had not noticed before andbehind it was a little door about fifteen inches high she tried thelittle golden key in the lock and to her great delight it fittedalice opened the door and found that it led into a small passage notmuch larger than a rathole she knelt down and looked along the passageinto the loveliest garden you ever saw how she longed to get out ofthat dark hall and wander about among those beds of bright flowers andthose cool fountains but she could not even get her head through thedoorway and even if my head would go through thought poor alice itwould be of very little use without my shoulders oh how i wish i couldshut up like a telescope i think i could if i only knew how to beginfor you see so many outoftheway things had happened latelythat alice had begun to think that very few things indeed were reallyimpossiblethere seemed to be no use in waiting by the little door so she wentback to the table half hoping she might find another key on it or atany rate a book of rules for shutting people up like telescopes thistime she found a little bottle on it which certainly was not herebefore said alice and round the neck of the bottle was a paperlabel with the words drink me beautifully printed on it in largelettersit was all very well to say drink me but the wise little alice wasnot going to do that in a hurry no ill look first she said andsee whether its marked poison or not for she had read several nicelittle histories about children who had got burnt and eaten up by wildbeasts and other unpleasant things all because they would not rememberthe simple rules their friends had taught them such as that a redhotpoker will burn you if you hold it too long and that if you cut yourfinger very deeply with a knife it usually bleeds and she had neverforgotten that if you drink much from a bottle marked poison it isalmost certain to disagree with you sooner or laterhowever this bottle was not marked poison so alice ventured to tasteit and finding it very nice it had in fact a sort of mixed flavourof cherrytart custard pineapple roast turkey toffee and hotbuttered toast she very soon finished it off                                                                            what a curious feeling said alice i must be shutting up like atelescopeand so it was indeed she was now only ten inches high and her facebrightened up at the thought that she was now the right size for goingthrough the little door into that lovely garden first however shewaited for a few minutes to see if she was going to shrink any furthershe felt a little nervous about this for it might end you know saidalice to herself in my going out altogether like a candle i wonderwhat i should be like then and she tried to fancy what the flame of acandle is like after the candle is blown out for she could not rememberever having seen such a thingafter a while finding that nothing more happened she decided on goinginto the garden at once but alas for poor alice when she got to thedoor she found she had forgotten the little golden key and when shewent back to the table for it she found she could not possibly reachit she could see it quite plainly through the glass and she tried herbest to climb up one of the legs of the table but it was too slipperyand when she had tired herself out with trying the poor little thingsat down and criedcome theres no use in crying like that said alice to herselfrather sharply i advise you to leave off this minute she generallygave herself very good advice though she very seldom followed itand sometimes she scolded herself so severely as to bring tears intoher eyes and once she remembered trying to box her own ears for havingcheated herself in a game of croquet she was playing against herselffor this curious child was very fond of pretending to be two peoplebut its no use now thought poor alice to pretend to be two peoplewhy theres hardly enough of me left to make one respectable personsoon her eye fell on a little glass box that was lying under the tableshe opened it and found in it a very small cake on which the wordseat me were beautifully marked in currants well ill eat it saidalice and if it makes me grow larger i can reach the key and if itmakes me grow smaller i can creep under the door so either way illget into the garden and i dont care which happensshe ate a little bit and said anxiously to herself which way whichway holding her hand on the top of her head to feel which way it wasgrowing and she was quite surprised to find that she remained the samesize to be sure this generally happens when one eats cake but alicehad got so much into the way of expecting nothing but outofthewaythings to happen that it seemed quite dull and stupid for life to go onin the common wayso she set to work and very soon finished off the cake                                                                            chapter ii the pool of tearscuriouser and curiouser cried alice she was so much surprised thatfor the moment she quite forgot how to speak good english now imopening out like the largest telescope that ever was goodbye feetfor when she looked down at her feet they seemed to be almost out ofsight they were getting so far off oh my poor little feet i wonderwho will put on your shoes and stockings for you now dears im surei shant be able i shall be a great deal too far off to troublemyself about you you must manage the best way you canbut i must bekind to them thought alice or perhaps they wont walk the way i wantto go let me see ill give them a new pair of boots every christmasand she went on planning to herself how she would manage it they mustgo by the carrier she thought and how funny itll seem sendingpresents to ones own feet and how odd the directions will look     alices right foot esq       hearthrug         near the fender           with alices loveoh dear what nonsense im talkingjust then her head struck against the roof of the hall in fact she wasnow more than nine feet high and she at once took up the little goldenkey and hurried off to the garden doorpoor alice it was as much as she could do lying down on one side tolook through into the garden with one eye but to get through was morehopeless than ever she sat down and began to cry againyou ought to be ashamed of yourself said alice a great girl likeyou she might well say this to go on crying in this way stop thismoment i tell you but she went on all the same shedding gallons oftears until there was a large pool all round her about four inchesdeep and reaching half down the hallafter a time she heard a little pattering of feet in the distance andshe hastily dried her eyes to see what was coming it was the whiterabbit returning splendidly dressed with a pair of white kid gloves inone hand and a large fan in the other he came trotting along in a greathurry muttering to himself as he came oh the duchess the duchessoh wont she be savage if ive kept her waiting alice felt sodesperate that she was ready to ask help of any one so when the rabbitcame near her she began in a low timid voice if you please sirthe rabbit started violently dropped the white kid gloves and the fanand skurried away into the darkness as hard as he could goalice took up the fan and gloves and as the hall was very hot shekept fanning herself all the time she went on talking dear dear howqueer everything is today and yesterday things went on just as usuali wonder if ive been changed in the night let me think was i thesame when i got up this morning i almost think i can remember feeling alittle different but if im not the same the next question is whoin the world am i ah thats the great puzzle and she began thinkingover all the children she knew that were of the same age as herself tosee if she could have been changed for any of themim sure im not ada she said for her hair goes in such longringlets and mine doesnt go in ringlets at all and im sure i cantbe mabel for i know all sorts of things and she oh she knows such avery little besides shes she and im i andoh dear how puzzlingit all is ill try if i know all the things i used to know let mesee four times five is twelve and four times six is thirteen andfour times seven isoh dear i shall never get to twenty at that ratehowever the multiplication table doesnt signify lets try geographylondon is the capital of paris and paris is the capital of rome andromeno thats all wrong im certain i must have been changed formabel ill try and say how doth the little and she crossed herhands on her lap as if she were saying lessons and began to repeat itbut her voice sounded hoarse and strange and the words did not come thesame as they used to do     how doth the little crocodile      improve his shining tail     and pour the waters of the nile      on every golden scale     how cheerfully he seems to grin      how neatly spread his claws     and welcome little fishes in      with gently smiling jawsim sure those are not the right words said poor alice and her eyesfilled with tears again as she went on i must be mabel after all andi shall have to go and live in that poky little house and have next tono toys to play with and oh ever so many lessons to learn no ivemade up my mind about it if im mabel ill stay down here itll be nouse their putting their heads down and saying come up again dear ishall only look up and say who am i then tell me that first and thenif i like being that person ill come up if not ill stay down heretill im somebody elsebut oh dear cried alice with a sudden burstof tears i do wish they would put their heads down i am so very tiredof being all alone hereas she said this she looked down at her hands and was surprised to seethat she had put on one of the rabbits little white kid gloves whileshe was talking how can i have done that she thought i mustbe growing small again she got up and went to the table to measureherself by it and found that as nearly as she could guess she was nowabout two feet high and was going on shrinking rapidly she soon foundout that the cause of this was the fan she was holding and she droppedit hastily just in time to avoid shrinking away altogetherthat was a narrow escape said alice a good deal frightened at thesudden change but very glad to find herself still in existence andnow for the garden and she ran with all speed back to the little doorbut alas the little door was shut again and the little golden key waslying on the glass table as before and things are worse than everthought the poor child for i never was so small as this before neverand i declare its too bad that it isas she said these words her foot slipped and in another moment splashshe was up to her chin in salt water her first idea was that shehad somehow fallen into the sea and in that case i can go back byrailway she said to herself alice had been to the seaside once inher life and had come to the general conclusion that wherever you goto on the english coast you find a number of bathing machines in thesea some children digging in the sand with wooden spades then a rowof lodging houses and behind them a railway station however she soonmade out that she was in the pool of tears which she had wept when shewas nine feet highi wish i hadnt cried so much said alice as she swam about tryingto find her way out i shall be punished for it now i suppose bybeing drowned in my own tears that will be a queer thing to be surehowever everything is queer todayjust then she heard something splashing about in the pool a little wayoff and she swam nearer to make out what it was at first she thoughtit must be a walrus or hippopotamus but then she remembered how smallshe was now and she soon made out that it was only a mouse that hadslipped in like herselfwould it be of any use now thought alice to speak to this mouseeverything is so outoftheway down here that i should think verylikely it can talk at any rate theres no harm in trying so shebegan o mouse do you know the way out of this pool i am very tiredof swimming about here o mouse alice thought this must be the rightway of speaking to a mouse she had never done such a thing before butshe remembered having seen in her brothers latin grammar a mouseofa mouseto a mousea mouseo mouse the mouse looked at her ratherinquisitively and seemed to her to wink with one of its little eyesbut it said nothingperhaps it doesnt understand english thought alice i daresay itsa french mouse come over with william the conqueror for with allher knowledge of history alice had no very clear notion how long agoanything had happened so she began again ou est ma chatte whichwas the first sentence in her french lessonbook the mouse gave asudden leap out of the water and seemed to quiver all over with frightoh i beg your pardon cried alice hastily afraid that she had hurtthe poor animals feelings i quite forgot you didnt like catsnot like cats cried the mouse in a shrill passionate voice wouldyou like cats if you were mewell perhaps not said alice in a soothing tone dont be angryabout it and yet i wish i could show you our cat dinah i think youdtake a fancy to cats if you could only see her she is such a dear quietthing alice went on half to herself as she swam lazily about in thepool and she sits purring so nicely by the fire licking her paws andwashing her faceand she is such a nice soft thing to nurseand shessuch a capital one for catching miceoh i beg your pardon criedalice again for this time the mouse was bristling all over and shefelt certain it must be really offended we wont talk about her anymore if youd rather notwe indeed cried the mouse who was trembling down to the end of histail as if i would talk on such a subject our family always hatedcats nasty low vulgar things dont let me hear the name againi wont indeed said alice in a great hurry to change the subject ofconversation are youare you fondofof dogs the mouse did notanswer so alice went on eagerly there is such a nice little dog nearour house i should like to show you a little brighteyed terrier youknow with oh such long curly brown hair and itll fetch things whenyou throw them and itll sit up and beg for its dinner and all sortsof thingsi cant remember half of themand it belongs to a farmeryou know and he says its so useful its worth a hundred pounds hesays it kills all the rats andoh dear cried alice in a sorrowfultone im afraid ive offended it again for the mouse was swimmingaway from her as hard as it could go and making quite a commotion inthe pool as it wentso she called softly after it mouse dear do come back again and wewont talk about cats or dogs either if you dont like them when themouse heard this it turned round and swam slowly back to her itsface was quite pale with passion alice thought and it said in a lowtrembling voice let us get to the shore and then ill tell you myhistory and youll understand why it is i hate cats and dogsit was high time to go for the pool was getting quite crowded with thebirds and animals that had fallen into it there were a duck and a dodoa lory and an eaglet and several other curious creatures alice led theway and the whole party swam to the shorechapter iii a caucusrace and a long talethey were indeed a queerlooking party that assembled on the bankthebirds with draggled feathers the animals with their fur clinging closeto them and all dripping wet cross and uncomfortablethe first question of course was how to get dry again they had aconsultation about this and after a few minutes it seemed quite naturalto alice to find herself talking familiarly with them as if she hadknown them all her life indeed she had quite a long argument with thelory who at last turned sulky and would only say i am older thanyou and must know better and this alice would not allow withoutknowing how old it was and as the lory positively refused to tell itsage there was no more to be saidat last the mouse who seemed to be a person of authority among themcalled out sit down all of you and listen to me ill soon make youdry enough they all sat down at once in a large ring with the mousein the middle alice kept her eyes anxiously fixed on it for she feltsure she would catch a bad cold if she did not get dry very soonahem said the mouse with an important air are you all ready thisis the driest thing i know silence all round if you please williamthe conqueror whose cause was favoured by the pope was soon submittedto by the english who wanted leaders and had been of late muchaccustomed to usurpation and conquest edwin and morcar the earls ofmercia and northumbriaugh said the lory with a shiveri beg your pardon said the mouse frowning but very politely didyou speaknot i said the lory hastilyi thought you did said the mouse i proceed edwin and morcarthe earls of mercia and northumbria declared for him and even stigandthe patriotic archbishop of canterbury found it advisablefound what said the duckfound it the mouse replied rather crossly of course you know whatit meansi know what it means well enough when i find a thing said theduck its generally a frog or a worm the question is what did thearchbishop findthe mouse did not notice this question but hurriedly went on foundit advisable to go with edgar atheling to meet william and offer him thecrown williams conduct at first was moderate but the insolence of hisnormans how are you getting on now my dear it continued turningto alice as it spokeas wet as ever said alice in a melancholy tone it doesnt seem todry me at allin that case said the dodo solemnly rising to its feet i movethat the meeting adjourn for the immediate adoption of more energeticremediesspeak english said the eaglet i dont know the meaning of halfthose long words and whats more i dont believe you do either andthe eaglet bent down its head to hide a smile some of the other birdstittered audiblywhat i was going to say said the dodo in an offended tone was thatthe best thing to get us dry would be a caucusracewhat is a caucusrace said alice not that she wanted much to knowbut the dodo had paused as if it thought that somebody ought to speakand no one else seemed inclined to say anythingwhy said the dodo the best way to explain it is to do it and asyou might like to try the thing yourself some winter day i will tellyou how the dodo managed itfirst it marked out a racecourse in a sort of circle the exactshape doesnt matter it said and then all the party were placedalong the course here and there there was no one two three andaway but they began running when they liked and left off when theyliked so that it was not easy to know when the race was over howeverwhen they had been running half an hour or so and were quite dry againthe dodo suddenly called out the race is over and they all crowdedround it panting and asking but who has wonthis question the dodo could not answer without a great deal of thoughtand it sat for a long time with one finger pressed upon its foreheadthe position in which you usually see shakespeare in the picturesof him while the rest waited in silence at last the dodo saideverybody has won and all must have prizesbut who is to give the prizes quite a chorus of voices askedwhy she of course said the dodo pointing to alice with one fingerand the whole party at once crowded round her calling out in a confusedway prizes prizesalice had no idea what to do and in despair she put her hand in herpocket and pulled out a box of comfits luckily the salt water hadnot got into it and handed them round as prizes there was exactly oneapiece all roundbut she must have a prize herself you know said the mouseof course the dodo replied very gravely what else have you got inyour pocket he went on turning to aliceonly a thimble said alice sadlyhand it over here said the dodothen they all crowded round her once more while the dodo solemnlypresented the thimble saying we beg your acceptance of this elegantthimble and when it had finished this short speech they all cheeredalice thought the whole thing very absurd but they all looked so gravethat she did not dare to laugh and as she could not think of anythingto say she simply bowed and took the thimble looking as solemn as shecouldthe next thing was to eat the comfits this caused some noise andconfusion as the large birds complained that they could not tastetheirs and the small ones choked and had to be patted on the backhowever it was over at last and they sat down again in a ring andbegged the mouse to tell them something moreyou promised to tell me your history you know said alice and whyit is you hatec and d she added in a whisper half afraid that itwould be offended againmine is a long and a sad tale said the mouse turning to alice andsighingit is a long tail certainly said alice looking down with wonder atthe mouses tail but why do you call it sad and she kept on puzzlingabout it while the mouse was speaking so that her idea of the tale wassomething like this         fury said to a         mouse that he        met in the       house     let us      both go to       law i will        prosecute         youcome           ill take no           denial we          must have a        trial for      really this     morning ive    nothing    to do     said the      mouse to the       cur such        a trial         dear sir            with          no jury        or judge       would be      wasting      our      breath       ill be        judge ill         be jury            said         cunning          old fury          ill          try the            whole            cause              and           condemn           you          to           deathyou are not attending said the mouse to alice severely what are youthinking ofi beg your pardon said alice very humbly you had got to the fifthbend i thinki had not cried the mouse sharply and very angrilya knot said alice always ready to make herself useful and lookinganxiously about her oh do let me help to undo iti shall do nothing of the sort said the mouse getting up and walkingaway you insult me by talking such nonsensei didnt mean it pleaded poor alice but youre so easily offendedyou knowthe mouse only growled in replyplease come back and finish your story alice called after it and theothers all joined in chorus yes please do but the mouse only shookits head impatiently and walked a little quickerwhat a pity it wouldnt stay sighed the lory as soon as it was quiteout of sight and an old crab took the opportunity of saying to herdaughter ah my dear let this be a lesson to you never to loseyour temper hold your tongue ma said the young crab a littlesnappishly youre enough to try the patience of an oysteri wish i had our dinah here i know i do said alice aloud addressingnobody in particular shed soon fetch it backand who is dinah if i might venture to ask the question said theloryalice replied eagerly for she was always ready to talk about her petdinahs our cat and shes such a capital one for catching mice youcant think and oh i wish you could see her after the birds whyshell eat a little bird as soon as look at itthis speech caused a remarkable sensation among the party some of thebirds hurried off at once one old magpie began wrapping itself up verycarefully remarking i really must be getting home the nightairdoesnt suit my throat and a canary called out in a trembling voice toits children come away my dears its high time you were all in bedon various pretexts they all moved off and alice was soon left alonei wish i hadnt mentioned dinah she said to herself in a melancholytone nobody seems to like her down here and im sure shes the bestcat in the world oh my dear dinah i wonder if i shall ever see youany more and here poor alice began to cry again for she felt verylonely and lowspirited in a little while however she again hearda little pattering of footsteps in the distance and she looked upeagerly half hoping that the mouse had changed his mind and was comingback to finish his storychapter iv the rabbit sends in a little billit was the white rabbit trotting slowly back again and lookinganxiously about as it went as if it had lost something and she heardit muttering to itself the duchess the duchess oh my dear paws ohmy fur and whiskers shell get me executed as sure as ferrets areferrets where can i have dropped them i wonder alice guessed in amoment that it was looking for the fan and the pair of white kid glovesand she very goodnaturedly began hunting about for them but they werenowhere to be seeneverything seemed to have changed since her swim inthe pool and the great hall with the glass table and the little doorhad vanished completelyvery soon the rabbit noticed alice as she went hunting about andcalled out to her in an angry tone why mary ann what are you doingout here run home this moment and fetch me a pair of gloves and a fanquick now and alice was so much frightened that she ran off at oncein the direction it pointed to without trying to explain the mistake ithad madehe took me for his housemaid she said to herself as she ran howsurprised hell be when he finds out who i am but id better take himhis fan and glovesthat is if i can find them as she said this shecame upon a neat little house on the door of which was a bright brassplate with the name w rabbit engraved upon it she went in withoutknocking and hurried upstairs in great fear lest she should meet thereal mary ann and be turned out of the house before she had found thefan and gloveshow queer it seems alice said to herself to be going messages fora rabbit i suppose dinahll be sending me on messages next and shebegan fancying the sort of thing that would happen miss alice comehere directly and get ready for your walk coming in a minutenurse but ive got to see that the mouse doesnt get out only i dontthink alice went on that theyd let dinah stop in the house if itbegan ordering people about like thatby this time she had found her way into a tidy little room with a tablein the window and on it as she had hoped a fan and two or three pairsof tiny white kid gloves she took up the fan and a pair of the glovesand was just going to leave the room when her eye fell upon a littlebottle that stood near the lookingglass there was no label this timewith the words drink me but nevertheless she uncorked it and put itto her lips i know something interesting is sure to happen she saidto herself whenever i eat or drink anything so ill just see whatthis bottle does i do hope itll make me grow large again for reallyim quite tired of being such a tiny little thingit did so indeed and much sooner than she had expected before she haddrunk half the bottle she found her head pressing against the ceilingand had to stoop to save her neck from being broken she hastily putdown the bottle saying to herself thats quite enoughi hope i shantgrow any moreas it is i cant get out at the doori do wish i hadntdrunk quite so muchalas it was too late to wish that she went on growing and growingand very soon had to kneel down on the floor in another minute therewas not even room for this and she tried the effect of lying down withone elbow against the door and the other arm curled round her headstill she went on growing and as a last resource she put one arm outof the window and one foot up the chimney and said to herself now ican do no more whatever happens what will become of meluckily for alice the little magic bottle had now had its full effectand she grew no larger still it was very uncomfortable and as thereseemed to be no sort of chance of her ever getting out of the roomagain no wonder she felt unhappyit was much pleasanter at home thought poor alice when one wasntalways growing larger and smaller and being ordered about by mice andrabbits i almost wish i hadnt gone down that rabbitholeand yetandyetits rather curious you know this sort of life i do wonder whatcan have happened to me when i used to read fairytales i fancied thatkind of thing never happened and now here i am in the middle of onethere ought to be a book written about me that there ought and when igrow up ill write onebut im grown up now she added in a sorrowfultone at least theres no room to grow up any more herebut then thought alice shall i never get any older than i amnow thatll be a comfort one waynever to be an old womanbutthenalways to have lessons to learn oh i shouldnt like thatoh you foolish alice she answered herself how can you learnlessons in here why theres hardly room for you and no room at allfor any lessonbooksand so she went on taking first one side and then the other and makingquite a conversation of it altogether but after a few minutes she hearda voice outside and stopped to listenmary ann mary ann said the voice fetch me my gloves this momentthen came a little pattering of feet on the stairs alice knew it wasthe rabbit coming to look for her and she trembled till she shook thehouse quite forgetting that she was now about a thousand times as largeas the rabbit and had no reason to be afraid of itpresently the rabbit came up to the door and tried to open it but asthe door opened inwards and alices elbow was pressed hard against itthat attempt proved a failure alice heard it say to itself then illgo round and get in at the windowthat you wont thought alice and after waiting till she fanciedshe heard the rabbit just under the window she suddenly spread out herhand and made a snatch in the air she did not get hold of anythingbut she heard a little shriek and a fall and a crash of broken glassfrom which she concluded that it was just possible it had fallen into acucumberframe or something of the sortnext came an angry voicethe rabbitspat pat where are you andthen a voice she had never heard before sure then im here diggingfor apples yer honourdigging for apples indeed said the rabbit angrily here come andhelp me out of this sounds of more broken glassnow tell me pat whats that in the windowsure its an arm yer honour he pronounced it arruman arm you goose who ever saw one that size why it fills the wholewindowsure it does yer honour but its an arm for all thatwell its got no business there at any rate go and take it awaythere was a long silence after this and alice could only hear whispersnow and then such as sure i dont like it yer honour at all atall do as i tell you you coward and at last she spread out herhand again and made another snatch in the air this time there weretwo little shrieks and more sounds of broken glass what a number ofcucumberframes there must be thought alice i wonder what theyll donext as for pulling me out of the window i only wish they could imsure i dont want to stay in here any longershe waited for some time without hearing anything more at last came arumbling of little cartwheels and the sound of a good many voicesall talking together she made out the words wheres the otherladderwhy i hadnt to bring but one bills got the otherbillfetch it here ladhere put em up at this cornerno tie emtogether firstthey dont reach half high enough yetoh theylldo well enough dont be particularhere bill catch hold of thisropewill the roof bearmind that loose slateoh its comingdown heads below a loud crashnow who did thatit was bill ifancywhos to go down the chimneynay i shant you do itthat iwont thenbills to go downhere bill the master says youre togo down the chimneyoh so bills got to come down the chimney has he said alice toherself shy they seem to put everything upon bill i wouldnt be inbills place for a good deal this fireplace is narrow to be sure buti think i can kick a littleshe drew her foot as far down the chimney as she could and waitedtill she heard a little animal she couldnt guess of what sort it wasscratching and scrambling about in the chimney close above her thensaying to herself this is bill she gave one sharp kick and waited tosee what would happen nextthe first thing she heard was a general chorus of there goes billthen the rabbits voice alongcatch him you by the hedge thensilence and then another confusion of voiceshold up his headbrandynowdont choke himhow was it old fellow what happened to you tellus all about itlast came a little feeble squeaking voice thats bill thoughtalice well i hardly knowno more thank ye im better nowbut ima deal too flustered to tell youall i know is something comes at melike a jackinthebox and up i goes like a skyrocketso you did old fellow said the otherswe must burn the house down said the rabbits voice and alice calledout as loud as she could if you do ill set dinah at youthere was a dead silence instantly and alice thought to herself iwonder what they will do next if they had any sense theyd take theroof off after a minute or two they began moving about again andalice heard the rabbit say a barrowful will do to begin witha barrowful of what thought alice but she had not long to doubtfor the next moment a shower of little pebbles came rattling in at thewindow and some of them hit her in the face ill put a stop to thisshe said to herself and shouted out youd better not do that againwhich produced another dead silencealice noticed with some surprise that the pebbles were all turning intolittle cakes as they lay on the floor and a bright idea came into herhead if i eat one of these cakes she thought its sure to makesome change in my size and as it cant possibly make me larger it mustmake me smaller i supposeso she swallowed one of the cakes and was delighted to find that shebegan shrinking directly as soon as she was small enough to get throughthe door she ran out of the house and found quite a crowd of littleanimals and birds waiting outside the poor little lizard bill wasin the middle being held up by two guineapigs who were giving itsomething out of a bottle they all made a rush at alice the moment sheappeared but she ran off as hard as she could and soon found herselfsafe in a thick woodthe first thing ive got to do said alice to herself as she wanderedabout in the wood is to grow to my right size again and the secondthing is to find my way into that lovely garden i think that will bethe best planit sounded an excellent plan no doubt and very neatly and simplyarranged the only difficulty was that she had not the smallest ideahow to set about it and while she was peering about anxiously amongthe trees a little sharp bark just over her head made her look up in agreat hurryan enormous puppy was looking down at her with large round eyes andfeebly stretching out one paw trying to touch her poor little thingsaid alice in a coaxing tone and she tried hard to whistle to it butshe was terribly frightened all the time at the thought that it might behungry in which case it would be very likely to eat her up in spite ofall her coaxinghardly knowing what she did she picked up a little bit of stick andheld it out to the puppy whereupon the puppy jumped into the air offall its feet at once with a yelp of delight and rushed at the stickand made believe to worry it then alice dodged behind a great thistleto keep herself from being run over and the moment she appeared on theother side the puppy made another rush at the stick and tumbled headover heels in its hurry to get hold of it then alice thinking it wasvery like having a game of play with a carthorse and expecting everymoment to be trampled under its feet ran round the thistle again thenthe puppy began a series of short charges at the stick running a verylittle way forwards each time and a long way back and barking hoarselyall the while till at last it sat down a good way off panting withits tongue hanging out of its mouth and its great eyes half shutthis seemed to alice a good opportunity for making her escape so sheset off at once and ran till she was quite tired and out of breath andtill the puppys bark sounded quite faint in the distanceand yet what a dear little puppy it was said alice as she leantagainst a buttercup to rest herself and fanned herself with one of theleaves i should have liked teaching it tricks very much ifif idonly been the right size to do it oh dear id nearly forgotten thative got to grow up again let me seehow is it to be managed isuppose i ought to eat or drink something or other but the greatquestion is whatthe great question certainly was what alice looked all round her atthe flowers and the blades of grass but she did not see anything thatlooked like the right thing to eat or drink under the circumstancesthere was a large mushroom growing near her about the same height asherself and when she had looked under it and on both sides of it andbehind it it occurred to her that she might as well look and see whatwas on the top of itshe stretched herself up on tiptoe and peeped over the edge of themushroom and her eyes immediately met those of a large caterpillarthat was sitting on the top with its arms folded quietly smoking a longhookah and taking not the smallest notice of her or of anything elsechapter v advice from a caterpillarthe caterpillar and alice looked at each other for some time in silenceat last the caterpillar took the hookah out of its mouth and addressedher in a languid sleepy voicewho are you said the caterpillarthis was not an encouraging opening for a conversation alice repliedrather shyly ii hardly know sir just at presentat least i knowwho i was when i got up this morning but i think i must have beenchanged several times since thenwhat do you mean by that said the caterpillar sternly explainyourselfi cant explain myself im afraid sir said alice because im notmyself you seei dont see said the caterpillarim afraid i cant put it more clearly alice replied very politelyfor i cant understand it myself to begin with and being so manydifferent sizes in a day is very confusingit isnt said the caterpillarwell perhaps you havent found it so yet said alice but when youhave to turn into a chrysalisyou will some day you knowand thenafter that into a butterfly i should think youll feel it a littlequeer wont younot a bit said the caterpillarwell perhaps your feelings may be different said alice all i knowis it would feel very queer to meyou said the caterpillar contemptuously who are youwhich brought them back again to the beginning of the conversationalice felt a little irritated at the caterpillars making such veryshort remarks and she drew herself up and said very gravely i thinkyou ought to tell me who you are firstwhy said the caterpillarhere was another puzzling question and as alice could not think of anygood reason and as the caterpillar seemed to be in a very unpleasantstate of mind she turned awaycome back the caterpillar called after her ive something importantto saythis sounded promising certainly alice turned and came back againkeep your temper said the caterpillaris that all said alice swallowing down her anger as well as shecouldno said the caterpillaralice thought she might as well wait as she had nothing else to do andperhaps after all it might tell her something worth hearing for someminutes it puffed away without speaking but at last it unfolded itsarms took the hookah out of its mouth again and said so you thinkyoure changed do youim afraid i am sir said alice i cant remember things as iusedand i dont keep the same size for ten minutes togethercant remember what things said the caterpillarwell ive tried to say how doth the little busy bee but it all camedifferent alice replied in a very melancholy voicerepeat you are old father william said the caterpillaralice folded her hands and began   you are old father william the young man said    and your hair has become very white   and yet you incessantly stand on your head    do you think at your age it is right   in my youth father william replied to his son    i feared it might injure the brain   but now that im perfectly sure i have none    why i do it again and again   you are old said the youth as i mentioned before    and have grown most uncommonly fat   yet you turned a backsomersault in at the door    pray what is the reason of that   in my youth said the sage as he shook his grey locks    i kept all my limbs very supple   by the use of this ointmentone shilling the box    allow me to sell you a couple   you are old said the youth and your jaws are too weak    for anything tougher than suet   yet you finished the goose with the bones and the beak    pray how did you manage to do it   in my youth said his father i took to the law    and argued each case with my wife   and the muscular strength which it gave to my jaw    has lasted the rest of my life   you are old said the youth one would hardly suppose    that your eye was as steady as ever   yet you balanced an eel on the end of your nose    what made you so awfully clever   i have answered three questions and that is enough    said his father dont give yourself airs   do you think i can listen all day to such stuff    be off or ill kick you down stairsthat is not said right said the caterpillarnot quite right im afraid said alice timidly some of the wordshave got alteredit is wrong from beginning to end said the caterpillar decidedly andthere was silence for some minutesthe caterpillar was the first to speakwhat size do you want to be it askedoh im not particular as to size alice hastily replied only onedoesnt like changing so often you knowi dont know said the caterpillaralice said nothing she had never been so much contradicted in her lifebefore and she felt that she was losing her temperare you content now said the caterpillarwell i should like to be a little larger sir if you wouldnt mindsaid alice three inches is such a wretched height to beit is a very good height indeed said the caterpillar angrily rearingitself upright as it spoke it was exactly three inches highbut im not used to it pleaded poor alice in a piteous tone andshe thought of herself i wish the creatures wouldnt be so easilyoffendedyoull get used to it in time said the caterpillar and it put thehookah into its mouth and began smoking againthis time alice waited patiently until it chose to speak again ina minute or two the caterpillar took the hookah out of its mouthand yawned once or twice and shook itself then it got down off themushroom and crawled away in the grass merely remarking as it wentone side will make you grow taller and the other side will make yougrow shorterone side of what the other side of what thought alice to herselfof the mushroom said the caterpillar just as if she had asked italoud and in another moment it was out of sightalice remained looking thoughtfully at the mushroom for a minute tryingto make out which were the two sides of it and as it was perfectlyround she found this a very difficult question however at last shestretched her arms round it as far as they would go and broke off a bitof the edge with each handand now which is which she said to herself and nibbled a little ofthe righthand bit to try the effect the next moment she felt a violentblow underneath her chin it had struck her footshe was a good deal frightened by this very sudden change but she feltthat there was no time to be lost as she was shrinking rapidly so sheset to work at once to eat some of the other bit her chin was pressedso closely against her foot that there was hardly room to open hermouth but she did it at last and managed to swallow a morsel of thelefthand bit                                                                            come my heads free at last said alice in a tone of delight whichchanged into alarm in another moment when she found that her shoulderswere nowhere to be found all she could see when she looked down wasan immense length of neck which seemed to rise like a stalk out of asea of green leaves that lay far below herwhat can all that green stuff be said alice and where have myshoulders got to and oh my poor hands how is it i cant see youshe was moving them about as she spoke but no result seemed to followexcept a little shaking among the distant green leavesas there seemed to be no chance of getting her hands up to her head shetried to get her head down to them and was delighted to find that herneck would bend about easily in any direction like a serpent she hadjust succeeded in curving it down into a graceful zigzag and was goingto dive in among the leaves which she found to be nothing but the topsof the trees under which she had been wandering when a sharp hiss madeher draw back in a hurry a large pigeon had flown into her face andwas beating her violently with its wingsserpent screamed the pigeonim not a serpent said alice indignantly let me aloneserpent i say again repeated the pigeon but in a more subdued toneand added with a kind of sob ive tried every way and nothing seemsto suit themi havent the least idea what youre talking about said aliceive tried the roots of trees and ive tried banks and ive triedhedges the pigeon went on without attending to her but thoseserpents theres no pleasing themalice was more and more puzzled but she thought there was no use insaying anything more till the pigeon had finishedas if it wasnt trouble enough hatching the eggs said the pigeonbut i must be on the lookout for serpents night and day why ihavent had a wink of sleep these three weeksim very sorry youve been annoyed said alice who was beginning tosee its meaningand just as id taken the highest tree in the wood continued thepigeon raising its voice to a shriek and just as i was thinking ishould be free of them at last they must needs come wriggling down fromthe sky ugh serpentbut im not a serpent i tell you said alice im aim awell what are you said the pigeon i can see youre trying toinvent somethingiim a little girl said alice rather doubtfully as she rememberedthe number of changes she had gone through that daya likely story indeed said the pigeon in a tone of the deepestcontempt ive seen a good many little girls in my time but never onewith such a neck as that no no youre a serpent and theres no usedenying it i suppose youll be telling me next that you never tasted aneggi have tasted eggs certainly said alice who was a very truthfulchild but little girls eat eggs quite as much as serpents do youknowi dont believe it said the pigeon but if they do why then theyrea kind of serpent thats all i can saythis was such a new idea to alice that she was quite silent for aminute or two which gave the pigeon the opportunity of adding yourelooking for eggs i know that well enough and what does it matter to mewhether youre a little girl or a serpentit matters a good deal to me said alice hastily but im not lookingfor eggs as it happens and if i was i shouldnt want yours i dontlike them rawwell be off then said the pigeon in a sulky tone as it settleddown again into its nest alice crouched down among the trees as well asshe could for her neck kept getting entangled among the branches andevery now and then she had to stop and untwist it after a while sheremembered that she still held the pieces of mushroom in her hands andshe set to work very carefully nibbling first at one and then at theother and growing sometimes taller and sometimes shorter until she hadsucceeded in bringing herself down to her usual heightit was so long since she had been anything near the right size that itfelt quite strange at first but she got used to it in a few minutesand began talking to herself as usual come theres half my plan donenow how puzzling all these changes are im never sure what im goingto be from one minute to another however ive got back to my rightsize the next thing is to get into that beautiful gardenhow is thatto be done i wonder as she said this she came suddenly upon an openplace with a little house in it about four feet high whoever livesthere thought alice itll never do to come upon them this size whyi should frighten them out of their wits so she began nibbling at therighthand bit again and did not venture to go near the house till shehad brought herself down to nine inches highchapter vi pig and pepperfor a minute or two she stood looking at the house and wondering whatto do next when suddenly a footman in livery came running out of thewoodshe considered him to be a footman because he was in liveryotherwise judging by his face only she would have called him afishand rapped loudly at the door with his knuckles it was openedby another footman in livery with a round face and large eyes like afrog and both footmen alice noticed had powdered hair that curled allover their heads she felt very curious to know what it was all aboutand crept a little way out of the wood to listenthe fishfootman began by producing from under his arm a great letternearly as large as himself and this he handed over to the othersaying in a solemn tone for the duchess an invitation from the queento play croquet the frogfootman repeated in the same solemn toneonly changing the order of the words a little from the queen aninvitation for the duchess to play croquetthen they both bowed low and their curls got entangled togetheralice laughed so much at this that she had to run back into thewood for fear of their hearing her and when she next peeped out thefishfootman was gone and the other was sitting on the ground near thedoor staring stupidly up into the skyalice went timidly up to the door and knockedtheres no sort of use in knocking said the footman and that fortwo reasons first because im on the same side of the door as youare secondly because theyre making such a noise inside no one couldpossibly hear you and certainly there was a most extraordinary noisegoing on withina constant howling and sneezing and every now and thena great crash as if a dish or kettle had been broken to piecesplease then said alice how am i to get inthere might be some sense in your knocking the footman went onwithout attending to her if we had the door between us for instanceif you were inside you might knock and i could let you out you knowhe was looking up into the sky all the time he was speaking and thisalice thought decidedly uncivil but perhaps he cant help it shesaid to herself his eyes are so very nearly at the top of his headbut at any rate he might answer questionshow am i to get in sherepeated aloudi shall sit here the footman remarked till tomorrowat this moment the door of the house opened and a large plate cameskimming out straight at the footmans head it just grazed his noseand broke to pieces against one of the trees behind himor next day maybe the footman continued in the same tone exactlyas if nothing had happenedhow am i to get in asked alice again in a louder toneare you to get in at all said the footman thats the firstquestion you knowit was no doubt only alice did not like to be told so its reallydreadful she muttered to herself the way all the creatures argueits enough to drive one crazythe footman seemed to think this a good opportunity for repeating hisremark with variations i shall sit here he said on and off fordays and daysbut what am i to do said aliceanything you like said the footman and began whistlingoh theres no use in talking to him said alice desperately hesperfectly idiotic and she opened the door and went inthe door led right into a large kitchen which was full of smoke fromone end to the other the duchess was sitting on a threelegged stool inthe middle nursing a baby the cook was leaning over the fire stirringa large cauldron which seemed to be full of souptheres certainly too much pepper in that soup alice said to herselfas well as she could for sneezingthere was certainly too much of it in the air even the duchesssneezed occasionally and as for the baby it was sneezing and howlingalternately without a moments pause the only things in the kitchenthat did not sneeze were the cook and a large cat which was sitting onthe hearth and grinning from ear to earplease would you tell me said alice a little timidly for she wasnot quite sure whether it was good manners for her to speak first whyyour cat grins like thatits a cheshire cat said the duchess and thats why pigshe said the last word with such sudden violence that alice quitejumped but she saw in another moment that it was addressed to the babyand not to her so she took courage and went on againi didnt know that cheshire cats always grinned in fact i didnt knowthat cats could grinthey all can said the duchess and most of em doi dont know of any that do alice said very politely feeling quitepleased to have got into a conversationyou dont know much said the duchess and thats a factalice did not at all like the tone of this remark and thought it wouldbe as well to introduce some other subject of conversation while shewas trying to fix on one the cook took the cauldron of soup off thefire and at once set to work throwing everything within her reach atthe duchess and the babythe fireirons came first then followed ashower of saucepans plates and dishes the duchess took no notice ofthem even when they hit her and the baby was howling so much alreadythat it was quite impossible to say whether the blows hurt it or notoh please mind what youre doing cried alice jumping up and down inan agony of terror oh there goes his precious nose as an unusuallylarge saucepan flew close by it and very nearly carried it offif everybody minded their own business the duchess said in a hoarsegrowl the world would go round a deal faster than it doeswhich would not be an advantage said alice who felt very glad to getan opportunity of showing off a little of her knowledge just think ofwhat work it would make with the day and night you see the earth takestwentyfour hours to turn round on its axistalking of axes said the duchess chop off her headalice glanced rather anxiously at the cook to see if she meant to takethe hint but the cook was busily stirring the soup and seemed not tobe listening so she went on again twentyfour hours i think or isit twelve ioh dont bother me said the duchess i never could abide figuresand with that she began nursing her child again singing a sort oflullaby to it as she did so and giving it a violent shake at the end ofevery line   speak roughly to your little boy    and beat him when he sneezes   he only does it to annoy    because he knows it teases         chorus in which the cook and the baby joined       wow wow wowwhile the duchess sang the second verse of the song she kept tossingthe baby violently up and down and the poor little thing howled sothat alice could hardly hear the words   i speak severely to my boy    i beat him when he sneezes   for he can thoroughly enjoy    the pepper when he pleases         chorus       wow wow wowhere you may nurse it a bit if you like the duchess said to aliceflinging the baby at her as she spoke i must go and get ready to playcroquet with the queen and she hurried out of the room the cook threwa fryingpan after her as she went out but it just missed heralice caught the baby with some difficulty as it was a queershapedlittle creature and held out its arms and legs in all directions justlike a starfish thought alice the poor little thing was snortinglike a steamengine when she caught it and kept doubling itself up andstraightening itself out again so that altogether for the first minuteor two it was as much as she could do to hold itas soon as she had made out the proper way of nursing it which was totwist it up into a sort of knot and then keep tight hold of its rightear and left foot so as to prevent its undoing itself she carriedit out into the open air if i dont take this child away with methought alice theyre sure to kill it in a day or two wouldnt it bemurder to leave it behind she said the last words out loud and thelittle thing grunted in reply it had left off sneezing by this timedont grunt said alice thats not at all a proper way of expressingyourselfthe baby grunted again and alice looked very anxiously into its face tosee what was the matter with it there could be no doubt that it hada very turnup nose much more like a snout than a real nose also itseyes were getting extremely small for a baby altogether alice did notlike the look of the thing at all but perhaps it was only sobbingshe thought and looked into its eyes again to see if there were anytearsno there were no tears if youre going to turn into a pig my dearsaid alice seriously ill have nothing more to do with you mindnow the poor little thing sobbed again or grunted it was impossibleto say which and they went on for some while in silencealice was just beginning to think to herself now what am i to do withthis creature when i get it home when it grunted again so violentlythat she looked down into its face in some alarm this time there couldbe no mistake about it it was neither more nor less than a pig and shefelt that it would be quite absurd for her to carry it furtherso she set the little creature down and felt quite relieved to seeit trot away quietly into the wood if it had grown up she saidto herself it would have made a dreadfully ugly child but it makesrather a handsome pig i think and she began thinking over otherchildren she knew who might do very well as pigs and was just sayingto herself if one only knew the right way to change them when shewas a little startled by seeing the cheshire cat sitting on a bough of atree a few yards offthe cat only grinned when it saw alice it looked goodnatured shethought still it had very long claws and a great many teeth so shefelt that it ought to be treated with respectcheshire puss she began rather timidly as she did not at all knowwhether it would like the name however it only grinned a little widercome its pleased so far thought alice and she went on would youtell me please which way i ought to go from herethat depends a good deal on where you want to get to said the cati dont much care where said alicethen it doesnt matter which way you go said the catso long as i get somewhere alice added as an explanationoh youre sure to do that said the cat if you only walk longenoughalice felt that this could not be denied so she tried another questionwhat sort of people live about herein that direction the cat said waving its right paw round livesa hatter and in that direction waving the other paw lives a marchhare visit either you like theyre both madbut i dont want to go among mad people alice remarkedoh you cant help that said the cat were all mad here im madyoure madhow do you know im mad said aliceyou must be said the cat or you wouldnt have come herealice didnt think that proved it at all however she went on and howdo you know that youre madto begin with said the cat a dogs not mad you grant thati suppose so said alicewell then the cat went on you see a dog growls when its angryand wags its tail when its pleased now i growl when im pleased andwag my tail when im angry therefore im madi call it purring not growling said alicecall it what you like said the cat do you play croquet with thequeen todayi should like it very much said alice but i havent been invitedyetyoull see me there said the cat and vanishedalice was not much surprised at this she was getting so used to queerthings happening while she was looking at the place where it had beenit suddenly appeared againbythebye what became of the baby said the cat id nearlyforgotten to askit turned into a pig alice quietly said just as if it had come backin a natural wayi thought it would said the cat and vanished againalice waited a little half expecting to see it again but it did notappear and after a minute or two she walked on in the direction inwhich the march hare was said to live ive seen hatters before shesaid to herself the march hare will be much the most interesting andperhaps as this is may it wont be raving madat least not so mad asit was in march as she said this she looked up and there was the catagain sitting on a branch of a treedid you say pig or fig said the cati said pig replied alice and i wish you wouldnt keep appearing andvanishing so suddenly you make one quite giddyall right said the cat and this time it vanished quite slowlybeginning with the end of the tail and ending with the grin whichremained some time after the rest of it had gonewell ive often seen a cat without a grin thought alice but a grinwithout a cat its the most curious thing i ever saw in my lifeshe had not gone much farther before she came in sight of the houseof the march hare she thought it must be the right house because thechimneys were shaped like ears and the roof was thatched with fur itwas so large a house that she did not like to go nearer till she hadnibbled some more of the lefthand bit of mushroom and raised herself toabout two feet high even then she walked up towards it rather timidlysaying to herself suppose it should be raving mad after all i almostwish id gone to see the hatter insteadchapter vii a mad teapartythere was a table set out under a tree in front of the house and themarch hare and the hatter were having tea at it a dormouse was sittingbetween them fast asleep and the other two were using it as acushion resting their elbows on it and talking over its head veryuncomfortable for the dormouse thought alice only as its asleep isuppose it doesnt mindthe table was a large one but the three were all crowded together atone corner of it no room no room they cried out when they saw alicecoming theres plenty of room said alice indignantly and she satdown in a large armchair at one end of the tablehave some wine the march hare said in an encouraging tonealice looked all round the table but there was nothing on it but teai dont see any wine she remarkedthere isnt any said the march harethen it wasnt very civil of you to offer it said alice angrilyit wasnt very civil of you to sit down without being invited saidthe march harei didnt know it was your table said alice its laid for a greatmany more than threeyour hair wants cutting said the hatter he had been looking at alicefor some time with great curiosity and this was his first speechyou should learn not to make personal remarks alice said with someseverity its very rudethe hatter opened his eyes very wide on hearing this but all he saidwas why is a raven like a writingdeskcome we shall have some fun now thought alice im glad theyvebegun asking riddlesi believe i can guess that she added alouddo you mean that you think you can find out the answer to it said themarch hareexactly so said alicethen you should say what you mean the march hare went oni do alice hastily replied at leastat least i mean what isaythats the same thing you knownot the same thing a bit said the hatter you might just as well saythat i see what i eat is the same thing as i eat what i seeyou might just as well say added the march hare that i like what iget is the same thing as i get what i likeyou might just as well say added the dormouse who seemed to betalking in his sleep that i breathe when i sleep is the same thingas i sleep when i breatheit is the same thing with you said the hatter and here theconversation dropped and the party sat silent for a minute while alicethought over all she could remember about ravens and writingdeskswhich wasnt muchthe hatter was the first to break the silence what day of the monthis it he said turning to alice he had taken his watch out of hispocket and was looking at it uneasily shaking it every now and thenand holding it to his earalice considered a little and then said the fourthtwo days wrong sighed the hatter i told you butter wouldnt suitthe works he added looking angrily at the march hareit was the best butter the march hare meekly repliedyes but some crumbs must have got in as well the hatter grumbledyou shouldnt have put it in with the breadknifethe march hare took the watch and looked at it gloomily then he dippedit into his cup of tea and looked at it again but he could think ofnothing better to say than his first remark it was the best butteryou knowalice had been looking over his shoulder with some curiosity what afunny watch she remarked it tells the day of the month and doesnttell what oclock it iswhy should it muttered the hatter does your watch tell you whatyear it isof course not alice replied very readily but thats because itstays the same year for such a long time togetherwhich is just the case with mine said the hatteralice felt dreadfully puzzled the hatters remark seemed to have nosort of meaning in it and yet it was certainly english i dont quiteunderstand you she said as politely as she couldthe dormouse is asleep again said the hatter and he poured a littlehot tea upon its nosethe dormouse shook its head impatiently and said without opening itseyes of course of course just what i was going to remark myselfhave you guessed the riddle yet the hatter said turning to aliceagainno i give it up alice replied whats the answeri havent the slightest idea said the hatternor i said the march harealice sighed wearily i think you might do something better with thetime she said than waste it in asking riddles that have no answersif you knew time as well as i do said the hatter you wouldnt talkabout wasting it its himi dont know what you mean said aliceof course you dont the hatter said tossing his head contemptuouslyi dare say you never even spoke to timeperhaps not alice cautiously replied but i know i have to beat timewhen i learn musicah that accounts for it said the hatter he wont stand beatingnow if you only kept on good terms with him hed do almost anythingyou liked with the clock for instance suppose it were nine oclock inthe morning just time to begin lessons youd only have to whisper ahint to time and round goes the clock in a twinkling halfpast onetime for dinneri only wish it was the march hare said to itself in a whisperthat would be grand certainly said alice thoughtfully but thenishouldnt be hungry for it you knownot at first perhaps said the hatter but you could keep it tohalfpast one as long as you likedis that the way you manage alice askedthe hatter shook his head mournfully not i he replied wequarrelled last marchjust before he went mad you know pointingwith his tea spoon at the march hare it was at the great concertgiven by the queen of hearts and i had to sing     twinkle twinkle little bat     how i wonder what youre atyou know the song perhapsive heard something like it said aliceit goes on you know the hatter continued in this way     up above the world you fly     like a teatray in the sky         twinkle twinklehere the dormouse shook itself and began singing in its sleep twinkletwinkle twinkle twinkle and went on so long that they had to pinchit to make it stopwell id hardly finished the first verse said the hatter when thequeen jumped up and bawled out hes murdering the time off with hisheadhow dreadfully savage exclaimed aliceand ever since that the hatter went on in a mournful tone he wontdo a thing i ask its always six oclock nowa bright idea came into alices head is that the reason so manyteathings are put out here she askedyes thats it said the hatter with a sigh its always teatimeand weve no time to wash the things between whilesthen you keep moving round i suppose said aliceexactly so said the hatter as the things get used upbut what happens when you come to the beginning again alice venturedto asksuppose we change the subject the march hare interrupted yawningim getting tired of this i vote the young lady tells us a storyim afraid i dont know one said alice rather alarmed at theproposalthen the dormouse shall they both cried wake up dormouse andthey pinched it on both sides at oncethe dormouse slowly opened his eyes i wasnt asleep he said in ahoarse feeble voice i heard every word you fellows were sayingtell us a story said the march hareyes please do pleaded aliceand be quick about it added the hatter or youll be asleep againbefore its doneonce upon a time there were three little sisters the dormouse beganin a great hurry and their names were elsie lacie and tillie andthey lived at the bottom of a wellwhat did they live on said alice who always took a great interest inquestions of eating and drinkingthey lived on treacle said the dormouse after thinking a minute ortwothey couldnt have done that you know alice gently remarked theydhave been illso they were said the dormouse very illalice tried to fancy to herself what such an extraordinary ways ofliving would be like but it puzzled her too much so she went on butwhy did they live at the bottom of a welltake some more tea the march hare said to alice very earnestlyive had nothing yet alice replied in an offended tone so i canttake moreyou mean you cant take less said the hatter its very easy to takemore than nothingnobody asked your opinion said alicewhos making personal remarks now the hatter asked triumphantlyalice did not quite know what to say to this so she helped herselfto some tea and breadandbutter and then turned to the dormouse andrepeated her question why did they live at the bottom of a wellthe dormouse again took a minute or two to think about it and thensaid it was a treaclewelltheres no such thing alice was beginning very angrily but thehatter and the march hare went sh sh and the dormouse sulkilyremarked if you cant be civil youd better finish the story foryourselfno please go on alice said very humbly i wont interrupt again idare say there may be oneone indeed said the dormouse indignantly however he consented togo on and so these three little sistersthey were learning to drawyou knowwhat did they draw said alice quite forgetting her promisetreacle said the dormouse without considering at all this timei want a clean cup interrupted the hatter lets all move one placeonhe moved on as he spoke and the dormouse followed him the march haremoved into the dormouses place and alice rather unwillingly tookthe place of the march hare the hatter was the only one who got anyadvantage from the change and alice was a good deal worse off thanbefore as the march hare had just upset the milkjug into his platealice did not wish to offend the dormouse again so she began verycautiously but i dont understand where did they draw the treaclefromyou can draw water out of a waterwell said the hatter so i shouldthink you could draw treacle out of a treaclewelleh stupidbut they were in the well alice said to the dormouse not choosing tonotice this last remarkof course they were said the dormouse well inthis answer so confused poor alice that she let the dormouse go on forsome time without interrupting itthey were learning to draw the dormouse went on yawning and rubbingits eyes for it was getting very sleepy and they drew all manner ofthingseverything that begins with an mwhy with an m said alicewhy not said the march harealice was silentthe dormouse had closed its eyes by this time and was going off intoa doze but on being pinched by the hatter it woke up again witha little shriek and went on that begins with an m such asmousetraps and the moon and memory and muchnessyou know you saythings are much of a muchnessdid you ever see such a thing as adrawing of a muchnessreally now you ask me said alice very much confused i dontthinkthen you shouldnt talk said the hatterthis piece of rudeness was more than alice could bear she got up ingreat disgust and walked off the dormouse fell asleep instantly andneither of the others took the least notice of her going though shelooked back once or twice half hoping that they would call after herthe last time she saw them they were trying to put the dormouse intothe teapotat any rate ill never go there again said alice as she picked herway through the wood its the stupidest teaparty i ever was at in allmy lifejust as she said this she noticed that one of the trees had a doorleading right into it thats very curious she thought buteverythings curious today i think i may as well go in at once and inshe wentonce more she found herself in the long hall and close to the littleglass table now ill manage better this time she said to herselfand began by taking the little golden key and unlocking the door thatled into the garden then she went to work nibbling at the mushroom shehad kept a piece of it in her pocket till she was about a foot highthen she walked down the little passage and thenshe found herself atlast in the beautiful garden among the bright flowerbeds and the coolfountainschapter viii the queens croquetgrounda large rosetree stood near the entrance of the garden the rosesgrowing on it were white but there were three gardeners at it busilypainting them red alice thought this a very curious thing and she wentnearer to watch them and just as she came up to them she heard one ofthem say look out now five dont go splashing paint over me likethati couldnt help it said five in a sulky tone seven jogged myelbowon which seven looked up and said thats right five always lay theblame on othersyoud better not talk said five i heard the queen say onlyyesterday you deserved to be beheadedwhat for said the one who had spoken firstthats none of your business two said sevenyes it is his business said five and ill tell himit was forbringing the cook tuliproots instead of onionsseven flung down his brush and had just begun well of all the unjustthings when his eye chanced to fall upon alice as she stood watchingthem and he checked himself suddenly the others looked round also andall of them bowed lowwould you tell me said alice a little timidly why you are paintingthose rosesfive and seven said nothing but looked at two two began in a lowvoice why the fact is you see miss this here ought to have been ared rosetree and we put a white one in by mistake and if the queenwas to find it out we should all have our heads cut off you knowso you see miss were doing our best afore she comes to at thismoment five who had been anxiously looking across the garden calledout the queen the queen and the three gardeners instantly threwthemselves flat upon their faces there was a sound of many footstepsand alice looked round eager to see the queenfirst came ten soldiers carrying clubs these were all shaped likethe three gardeners oblong and flat with their hands and feet at thecorners next the ten courtiers these were ornamented all over withdiamonds and walked two and two as the soldiers did after these camethe royal children there were ten of them and the little dears camejumping merrily along hand in hand in couples they were all ornamentedwith hearts next came the guests mostly kings and queens and amongthem alice recognised the white rabbit it was talking in a hurriednervous manner smiling at everything that was said and went by withoutnoticing her then followed the knave of hearts carrying the kingscrown on a crimson velvet cushion and last of all this grandprocession came the king and queen of heartsalice was rather doubtful whether she ought not to lie down on her facelike the three gardeners but she could not remember ever having heardof such a rule at processions and besides what would be the use ofa procession thought she if people had all to lie down upon theirfaces so that they couldnt see it so she stood still where she wasand waitedwhen the procession came opposite to alice they all stopped and lookedat her and the queen said severely who is this she said it to theknave of hearts who only bowed and smiled in replyidiot said the queen tossing her head impatiently and turning toalice she went on whats your name childmy name is alice so please your majesty said alice very politelybut she added to herself why theyre only a pack of cards afterall i neednt be afraid of themand who are these said the queen pointing to the three gardeners whowere lying round the rosetree for you see as they were lying on theirfaces and the pattern on their backs was the same as the rest of thepack she could not tell whether they were gardeners or soldiers orcourtiers or three of her own childrenhow should i know said alice surprised at her own courage its nobusiness of minethe queen turned crimson with fury and after glaring at her for amoment like a wild beast screamed off with her head offnonsense said alice very loudly and decidedly and the queen wassilentthe king laid his hand upon her arm and timidly said consider mydear she is only a childthe queen turned angrily away from him and said to the knave turn themoverthe knave did so very carefully with one footget up said the queen in a shrill loud voice and the threegardeners instantly jumped up and began bowing to the king the queenthe royal children and everybody elseleave off that screamed the queen you make me giddy and thenturning to the rosetree she went on what have you been doing heremay it please your majesty said two in a very humble tone goingdown on one knee as he spoke we were tryingi see said the queen who had meanwhile been examining the rosesoff with their heads and the procession moved on three of thesoldiers remaining behind to execute the unfortunate gardeners who ranto alice for protectionyou shant be beheaded said alice and she put them into a largeflowerpot that stood near the three soldiers wandered about for aminute or two looking for them and then quietly marched off after theothersare their heads off shouted the queentheir heads are gone if it please your majesty the soldiers shoutedin replythats right shouted the queen can you play croquetthe soldiers were silent and looked at alice as the question wasevidently meant for heryes shouted alicecome on then roared the queen and alice joined the processionwondering very much what would happen nextitsits a very fine day said a timid voice at her side she waswalking by the white rabbit who was peeping anxiously into her facevery said alice wheres the duchesshush hush said the rabbit in a low hurried tone he lookedanxiously over his shoulder as he spoke and then raised himself upontiptoe put his mouth close to her ear and whispered shes undersentence of executionwhat for said alicedid you say what a pity the rabbit askedno i didnt said alice i dont think its at all a pity i saidwhat forshe boxed the queens ears the rabbit began alice gave a littlescream of laughter oh hush the rabbit whispered in a frightenedtone the queen will hear you you see she came rather late and thequeen saidget to your places shouted the queen in a voice of thunder andpeople began running about in all directions tumbling up against eachother however they got settled down in a minute or two and the gamebegan alice thought she had never seen such a curious croquetground inher life it was all ridges and furrows the balls were live hedgehogsthe mallets live flamingoes and the soldiers had to double themselvesup and to stand on their hands and feet to make the archesthe chief difficulty alice found at first was in managing her flamingoshe succeeded in getting its body tucked away comfortably enough underher arm with its legs hanging down but generally just as she had gotits neck nicely straightened out and was going to give the hedgehog ablow with its head it would twist itself round and look up in her facewith such a puzzled expression that she could not help bursting outlaughing and when she had got its head down and was going to beginagain it was very provoking to find that the hedgehog had unrolleditself and was in the act of crawling away besides all this there wasgenerally a ridge or furrow in the way wherever she wanted to send thehedgehog to and as the doubledup soldiers were always getting upand walking off to other parts of the ground alice soon came to theconclusion that it was a very difficult game indeedthe players all played at once without waiting for turns quarrellingall the while and fighting for the hedgehogs and in a very shorttime the queen was in a furious passion and went stamping about andshouting off with his head or off with her head about once in aminutealice began to feel very uneasy to be sure she had not as yet had anydispute with the queen but she knew that it might happen any minuteand then thought she what would become of me theyre dreadfullyfond of beheading people here the great wonder is that theres any oneleft aliveshe was looking about for some way of escape and wondering whether shecould get away without being seen when she noticed a curious appearancein the air it puzzled her very much at first but after watching ita minute or two she made it out to be a grin and she said to herselfits the cheshire cat now i shall have somebody to talk tohow are you getting on said the cat as soon as there was mouthenough for it to speak withalice waited till the eyes appeared and then nodded its no usespeaking to it she thought till its ears have come or at least oneof them in another minute the whole head appeared and then alice putdown her flamingo and began an account of the game feeling very gladshe had someone to listen to her the cat seemed to think that there wasenough of it now in sight and no more of it appearedi dont think they play at all fairly alice began in rather acomplaining tone and they all quarrel so dreadfully one cant hearoneself speakand they dont seem to have any rules in particularat least if there are nobody attends to themand youve no idea howconfusing it is all the things being alive for instance theres thearch ive got to go through next walking about at the other end of thegroundand i should have croqueted the queens hedgehog just now onlyit ran away when it saw mine cominghow do you like the queen said the cat in a low voicenot at all said alice shes so extremely just then she noticedthat the queen was close behind her listening so she went onlikely to win that its hardly worth while finishing the gamethe queen smiled and passed onwho are you talking to said the king going up to alice and lookingat the cats head with great curiosityits a friend of minea cheshire cat said alice allow me tointroduce iti dont like the look of it at all said the king however it maykiss my hand if it likesid rather not the cat remarkeddont be impertinent said the king and dont look at me like thathe got behind alice as he spokea cat may look at a king said alice ive read that in some bookbut i dont remember wherewell it must be removed said the king very decidedly and he calledthe queen who was passing at the moment my dear i wish you wouldhave this cat removedthe queen had only one way of settling all difficulties great or smalloff with his head she said without even looking roundill fetch the executioner myself said the king eagerly and hehurried offalice thought she might as well go back and see how the game was goingon as she heard the queens voice in the distance screaming withpassion she had already heard her sentence three of the players to beexecuted for having missed their turns and she did not like the lookof things at all as the game was in such confusion that she never knewwhether it was her turn or not so she went in search of her hedgehogthe hedgehog was engaged in a fight with another hedgehog which seemedto alice an excellent opportunity for croqueting one of them with theother the only difficulty was that her flamingo was gone across to theother side of the garden where alice could see it trying in a helplesssort of way to fly up into a treeby the time she had caught the flamingo and brought it back the fightwas over and both the hedgehogs were out of sight but it doesntmatter much thought alice as all the arches are gone from this sideof the ground so she tucked it away under her arm that it might notescape again and went back for a little more conversation with herfriendwhen she got back to the cheshire cat she was surprised to find quite alarge crowd collected round it there was a dispute going on betweenthe executioner the king and the queen who were all talking at oncewhile all the rest were quite silent and looked very uncomfortablethe moment alice appeared she was appealed to by all three to settlethe question and they repeated their arguments to her though as theyall spoke at once she found it very hard indeed to make out exactlywhat they saidthe executioners argument was that you couldnt cut off a head unlessthere was a body to cut it off from that he had never had to do such athing before and he wasnt going to begin at his time of lifethe kings argument was that anything that had a head could bebeheaded and that you werent to talk nonsensethe queens argument was that if something wasnt done about it in lessthan no time shed have everybody executed all round it was this lastremark that had made the whole party look so grave and anxiousalice could think of nothing else to say but it belongs to the duchessyoud better ask her about itshes in prison the queen said to the executioner fetch her hereand the executioner went off like an arrow the cats head began fading away the moment he was gone andby the time he had come back with the duchess it had entirelydisappeared so the king and the executioner ran wildly up and downlooking for it while the rest of the party went back to the gamechapter ix the mock turtles storyyou cant think how glad i am to see you again you dear old thingsaid the duchess as she tucked her arm affectionately into alices andthey walked off togetheralice was very glad to find her in such a pleasant temper and thoughtto herself that perhaps it was only the pepper that had made her sosavage when they met in the kitchenwhen im a duchess she said to herself not in a very hopeful tonethough i wont have any pepper in my kitchen at all soup does verywell withoutmaybe its always pepper that makes people hottemperedshe went on very much pleased at having found out a new kind ofrule and vinegar that makes them sourand camomile that makesthem bitterandand barleysugar and such things that make childrensweettempered i only wish people knew that then they wouldnt be sostingy about it you knowshe had quite forgotten the duchess by this time and was a littlestartled when she heard her voice close to her ear youre thinkingabout something my dear and that makes you forget to talk i canttell you just now what the moral of that is but i shall remember it ina bitperhaps it hasnt one alice ventured to remarktut tut child said the duchess everythings got a moral if onlyyou can find it and she squeezed herself up closer to alices side asshe spokealice did not much like keeping so close to her first because theduchess was very ugly and secondly because she was exactly theright height to rest her chin upon alices shoulder and it was anuncomfortably sharp chin however she did not like to be rude so shebore it as well as she couldthe games going on rather better now she said by way of keeping upthe conversation a littletis so said the duchess and the moral of that isoh tis lovetis love that makes the world go roundsomebody said alice whispered that its done by everybody mindingtheir own businessah well it means much the same thing said the duchess digging hersharp little chin into alices shoulder as she added and the moralof that istake care of the sense and the sounds will take care ofthemselveshow fond she is of finding morals in things alice thought to herselfi dare say youre wondering why i dont put my arm round your waistthe duchess said after a pause the reason is that im doubtful aboutthe temper of your flamingo shall i try the experimenthe might bite alice cautiously replied not feeling at all anxious tohave the experiment triedvery true said the duchess flamingoes and mustard both bite andthe moral of that isbirds of a feather flock togetheronly mustard isnt a bird alice remarkedright as usual said the duchess what a clear way you have ofputting thingsits a mineral i think said aliceof course it is said the duchess who seemed ready to agree toeverything that alice said theres a large mustardmine near here andthe moral of that isthe more there is of mine the less there is ofyoursoh i know exclaimed alice who had not attended to this last remarkits a vegetable it doesnt look like one but it isi quite agree with you said the duchess and the moral of thatisbe what you would seem to beor if youd like it put moresimplynever imagine yourself not to be otherwise than what it mightappear to others that what you were or might have been was not otherwisethan what you had been would have appeared to them to be otherwisei think i should understand that better alice said very politely ifi had it written down but i cant quite follow it as you say itthats nothing to what i could say if i chose the duchess replied ina pleased tonepray dont trouble yourself to say it any longer than that saidaliceoh dont talk about trouble said the duchess i make you a presentof everything ive said as yeta cheap sort of present thought alice im glad they dont givebirthday presents like that but she did not venture to say it outloudthinking again the duchess asked with another dig of her sharplittle chinive a right to think said alice sharply for she was beginning tofeel a little worriedjust about as much right said the duchess as pigs have to fly andthe mbut here to alices great surprise the duchesss voice died away evenin the middle of her favourite word moral and the arm that was linkedinto hers began to tremble alice looked up and there stood the queenin front of them with her arms folded frowning like a thunderstorma fine day your majesty the duchess began in a low weak voicenow i give you fair warning shouted the queen stamping on theground as she spoke either you or your head must be off and that inabout half no time take your choicethe duchess took her choice and was gone in a momentlets go on with the game the queen said to alice and alice wastoo much frightened to say a word but slowly followed her back to thecroquetgroundthe other guests had taken advantage of the queens absence and wereresting in the shade however the moment they saw her they hurriedback to the game the queen merely remarking that a moments delay wouldcost them their livesall the time they were playing the queen never left off quarrelling withthe other players and shouting off with his head or off with herhead those whom she sentenced were taken into custody by the soldierswho of course had to leave off being arches to do this so that bythe end of half an hour or so there were no arches left and all theplayers except the king the queen and alice were in custody andunder sentence of executionthen the queen left off quite out of breath and said to alice haveyou seen the mock turtle yetno said alice i dont even know what a mock turtle isits the thing mock turtle soup is made from said the queeni never saw one or heard of one said alicecome on then said the queen and he shall tell you his historyas they walked off together alice heard the king say in a low voiceto the company generally you are all pardoned come thats a goodthing she said to herself for she had felt quite unhappy at thenumber of executions the queen had orderedthey very soon came upon a gryphon lying fast asleep in the sunif you dont know what a gryphon is look at the picture up lazything said the queen and take this young lady to see the mockturtle and to hear his history i must go back and see after someexecutions i have ordered and she walked off leaving alice alone withthe gryphon alice did not quite like the look of the creature but onthe whole she thought it would be quite as safe to stay with it as to goafter that savage queen so she waitedthe gryphon sat up and rubbed its eyes then it watched the queen tillshe was out of sight then it chuckled what fun said the gryphonhalf to itself half to alicewhat is the fun said alicewhy she said the gryphon its all her fancy that they neverexecutes nobody you know come oneverybody says come on here thought alice as she went slowlyafter it i never was so ordered about in all my life neverthey had not gone far before they saw the mock turtle in the distancesitting sad and lonely on a little ledge of rock and as they camenearer alice could hear him sighing as if his heart would break shepitied him deeply what is his sorrow she asked the gryphon and thegryphon answered very nearly in the same words as before its all hisfancy that he hasnt got no sorrow you know come onso they went up to the mock turtle who looked at them with large eyesfull of tears but said nothingthis here young lady said the gryphon she wants for to know yourhistory she doill tell it her said the mock turtle in a deep hollow tone sitdown both of you and dont speak a word till ive finishedso they sat down and nobody spoke for some minutes alice thought toherself i dont see how he can even finish if he doesnt begin butshe waited patientlyonce said the mock turtle at last with a deep sigh i was a realturtlethese words were followed by a very long silence broken only by anoccasional exclamation of hjckrrh from the gryphon and the constantheavy sobbing of the mock turtle alice was very nearly getting up andsaying thank you sir for your interesting story but she couldnot help thinking there must be more to come so she sat still and saidnothingwhen we were little the mock turtle went on at last more calmlythough still sobbing a little now and then we went to school in thesea the master was an old turtlewe used to call him tortoisewhy did you call him tortoise if he wasnt one alice askedwe called him tortoise because he taught us said the mock turtleangrily really you are very dullyou ought to be ashamed of yourself for asking such a simple questionadded the gryphon and then they both sat silent and looked at pooralice who felt ready to sink into the earth at last the gryphon saidto the mock turtle drive on old fellow dont be all day about itand he went on in these wordsyes we went to school in the sea though you maynt believe iti never said i didnt interrupted aliceyou did said the mock turtlehold your tongue added the gryphon before alice could speak againthe mock turtle went onwe had the best of educationsin fact we went to school every dayive been to a dayschool too said alice you neednt be so proudas all thatwith extras asked the mock turtle a little anxiouslyyes said alice we learned french and musicand washing said the mock turtlecertainly not said alice indignantlyah then yours wasnt a really good school said the mock turtle ina tone of great relief now at ours they had at the end of the billfrench music and washingextrayou couldnt have wanted it much said alice living at the bottom ofthe seai couldnt afford to learn it said the mock turtle with a sigh ionly took the regular coursewhat was that inquired alicereeling and writhing of course to begin with the mock turtlereplied and then the different branches of arithmeticambitiondistraction uglification and derisioni never heard of uglification alice ventured to say what is itthe gryphon lifted up both its paws in surprise what never heard ofuglifying it exclaimed you know what to beautify is i supposeyes said alice doubtfully it meanstomakeanythingprettierwell then the gryphon went on if you dont know what to uglify isyou are a simpletonalice did not feel encouraged to ask any more questions about it so sheturned to the mock turtle and said what else had you to learnwell there was mystery the mock turtle replied counting offthe subjects on his flappers mystery ancient and modern withseaography then drawlingthe drawlingmaster was an old congereelthat used to come once a week he taught us drawling stretching andfainting in coilswhat was that like said alicewell i cant show it you myself the mock turtle said im toostiff and the gryphon never learnt ithadnt time said the gryphon i went to the classics master thoughhe was an old crab he wasi never went to him the mock turtle said with a sigh he taughtlaughing and grief they used to sayso he did so he did said the gryphon sighing in his turn and bothcreatures hid their faces in their pawsand how many hours a day did you do lessons said alice in a hurry tochange the subjectten hours the first day said the mock turtle nine the next and soonwhat a curious plan exclaimed alicethats the reason theyre called lessons the gryphon remarkedbecause they lessen from day to daythis was quite a new idea to alice and she thought it over a littlebefore she made her next remark then the eleventh day must have been aholidayof course it was said the mock turtleand how did you manage on the twelfth alice went on eagerlythats enough about lessons the gryphon interrupted in a very decidedtone tell her something about the games nowchapter x the lobster quadrillethe mock turtle sighed deeply and drew the back of one flapper acrosshis eyes he looked at alice and tried to speak but for a minute ortwo sobs choked his voice same as if he had a bone in his throatsaid the gryphon and it set to work shaking him and punching him inthe back at last the mock turtle recovered his voice and with tearsrunning down his cheeks he went on againyou may not have lived much under the sea i havent saidaliceand perhaps you were never even introduced to a lobsteralice began to say i once tasted but checked herself hastily andsaid no never so you can have no idea what a delightful thing alobster quadrille isno indeed said alice what sort of a dance is itwhy said the gryphon you first form into a line along theseashoretwo lines cried the mock turtle seals turtles salmon and so onthen when youve cleared all the jellyfish out of the waythat generally takes some time interrupted the gryphonyou advance twiceeach with a lobster as a partner cried the gryphonof course the mock turtle said advance twice set to partnerschange lobsters and retire in same order continued the gryphonthen you know the mock turtle went on you throw thethe lobsters shouted the gryphon with a bound into the airas far out to sea as you canswim after them screamed the gryphonturn a somersault in the sea cried the mock turtle capering wildlyaboutchange lobsters again yelled the gryphon at the top of its voiceback to land again and thats all the first figure said the mockturtle suddenly dropping his voice and the two creatures who had beenjumping about like mad things all this time sat down again very sadlyand quietly and looked at aliceit must be a very pretty dance said alice timidlywould you like to see a little of it said the mock turtlevery much indeed said alicecome lets try the first figure said the mock turtle to the gryphonwe can do without lobsters you know which shall singoh you sing said the gryphon ive forgotten the wordsso they began solemnly dancing round and round alice every now andthen treading on her toes when they passed too close and waving theirforepaws to mark the time while the mock turtle sang this very slowlyand sadly will you walk a little faster said a whiting to a snail theres a porpoise close behind us and hes treading on my tail see how eagerly the lobsters and the turtles all advance they are waiting on the shinglewill you come and join the dance will you wont you will you wont you will you join the dance will you wont you will you wont you wont you join the dance you can really have no notion how delightful it will be when they take us up and throw us with the lobsters out to sea but the snail replied too far too far and gave a look askance said he thanked the whiting kindly but he would not join the dance would not could not would not could not would not join the dance would not could not would not could not could not join the dance what matters it how far we go his scaly friend replied there is another shore you know upon the other side the further off from england the nearer is to france then turn not pale beloved snail but come and join the dance will you wont you will you wont you will you join the dance will you wont you will you wont you wont you join the dancethank you its a very interesting dance to watch said alice feelingvery glad that it was over at last and i do so like that curious songabout the whitingoh as to the whiting said the mock turtle theyyouve seen themof courseyes said alice ive often seen them at dinn she checked herselfhastilyi dont know where dinn may be said the mock turtle but if youveseen them so often of course you know what theyre likei believe so alice replied thoughtfully they have their tails intheir mouthsand theyre all over crumbsyoure wrong about the crumbs said the mock turtle crumbs would allwash off in the sea but they have their tails in their mouths and thereason is here the mock turtle yawned and shut his eyestell herabout the reason and all that he said to the gryphonthe reason is said the gryphon that they would go with the lobstersto the dance so they got thrown out to sea so they had to fall a longway so they got their tails fast in their mouths so they couldnt getthem out again thats allthank you said alice its very interesting i never knew so muchabout a whiting beforei can tell you more than that if you like said the gryphon do youknow why its called a whitingi never thought about it said alice whyit does the boots and shoes the gryphon replied very solemnlyalice was thoroughly puzzled does the boots and shoes she repeatedin a wondering tonewhy what are your shoes done with said the gryphon i mean whatmakes them so shinyalice looked down at them and considered a little before she gave heranswer theyre done with blacking i believeboots and shoes under the sea the gryphon went on in a deep voiceare done with a whiting now you knowand what are they made of alice asked in a tone of great curiositysoles and eels of course the gryphon replied rather impatientlyany shrimp could have told you thatif id been the whiting said alice whose thoughts were still runningon the song id have said to the porpoise keep back please wedont want you with usthey were obliged to have him with them the mock turtle said nowise fish would go anywhere without a porpoisewouldnt it really said alice in a tone of great surpriseof course not said the mock turtle why if a fish came to me andtold me he was going a journey i should say with what porpoisedont you mean purpose said alicei mean what i say the mock turtle replied in an offended tone andthe gryphon added come lets hear some of your adventuresi could tell you my adventuresbeginning from this morning saidalice a little timidly but its no use going back to yesterdaybecause i was a different person thenexplain all that said the mock turtleno no the adventures first said the gryphon in an impatient toneexplanations take such a dreadful timeso alice began telling them her adventures from the time when she firstsaw the white rabbit she was a little nervous about it just at firstthe two creatures got so close to her one on each side and openedtheir eyes and mouths so very wide but she gained courage as she wenton her listeners were perfectly quiet till she got to the part abouther repeating you are old father william to the caterpillar and thewords all coming different and then the mock turtle drew a long breathand said thats very curiousits all about as curious as it can be said the gryphonit all came different the mock turtle repeated thoughtfully ishould like to hear her try and repeat something now tell her tobegin he looked at the gryphon as if he thought it had some kind ofauthority over alicestand up and repeat tis the voice of the sluggard said thegryphonhow the creatures order one about and make one repeat lessonsthought alice i might as well be at school at once however shegot up and began to repeat it but her head was so full of the lobsterquadrille that she hardly knew what she was saying and the words camevery queer indeed  tis the voice of the lobster i heard him declare  you have baked me too brown i must sugar my hair  as a duck with its eyelids so he with his nose  trims his belt and his buttons and turns out his toes       later editions continued as follows  when the sands are all dry he is gay as a lark  and will talk in contemptuous tones of the shark  but when the tide rises and sharks are around  his voice has a timid and tremulous soundthats different from what i used to say when i was a child said thegryphonwell i never heard it before said the mock turtle but it soundsuncommon nonsensealice said nothing she had sat down with her face in her handswondering if anything would ever happen in a natural way againi should like to have it explained said the mock turtleshe cant explain it said the gryphon hastily go on with the nextversebut about his toes the mock turtle persisted how could he turn themout with his nose you knowits the first position in dancing alice said but was dreadfullypuzzled by the whole thing and longed to change the subjectgo on with the next verse the gryphon repeated impatiently itbegins i passed by his gardenalice did not dare to disobey though she felt sure it would all comewrong and she went on in a trembling voice  i passed by his garden and marked with one eye  how the owl and the panther were sharing a pie    later editions continued as follows  the panther took piecrust and gravy and meat  while the owl had the dish as its share of the treat  when the pie was all finished the owl as a boon  was kindly permitted to pocket the spoon  while the panther received knife and fork with a growl  and concluded the banquetwhat is the use of repeating all that stuff the mock turtleinterrupted if you dont explain it as you go on its by far the mostconfusing thing i ever heardyes i think youd better leave off said the gryphon and alice wasonly too glad to do soshall we try another figure of the lobster quadrille the gryphon wenton or would you like the mock turtle to sing you a songoh a song please if the mock turtle would be so kind alicereplied so eagerly that the gryphon said in a rather offended tonehm no accounting for tastes sing her turtle soup will you oldfellowthe mock turtle sighed deeply and began in a voice sometimes chokedwith sobs to sing this   beautiful soup so rich and green   waiting in a hot tureen   who for such dainties would not stoop   soup of the evening beautiful soup   soup of the evening beautiful soup     beauootiful soooop     beauootiful soooop   soooop of the eeevening     beautiful beautiful soup   beautiful soup who cares for fish   game or any other dish   who would not give all else for two   pennyworth only of beautiful soup   pennyworth only of beautiful soup     beauootiful soooop     beauootiful soooop   soooop of the eeevening     beautiful beautiful soupchorus again cried the gryphon and the mock turtle had just begunto repeat it when a cry of the trials beginning was heard in thedistancecome on cried the gryphon and taking alice by the hand it hurriedoff without waiting for the end of the songwhat trial is it alice panted as she ran but the gryphon onlyanswered come on and ran the faster while more and more faintlycame carried on the breeze that followed them the melancholy words   soooop of the eeevening     beautiful beautiful soupchapter xi who stole the tartsthe king and queen of hearts were seated on their throne when theyarrived with a great crowd assembled about themall sorts of littlebirds and beasts as well as the whole pack of cards the knave wasstanding before them in chains with a soldier on each side to guardhim and near the king was the white rabbit with a trumpet in one handand a scroll of parchment in the other in the very middle of the courtwas a table with a large dish of tarts upon it they looked so goodthat it made alice quite hungry to look at themi wish theyd get thetrial done she thought and hand round the refreshments but thereseemed to be no chance of this so she began looking at everything abouther to pass away the timealice had never been in a court of justice before but she had readabout them in books and she was quite pleased to find that she knewthe name of nearly everything there thats the judge she said toherself because of his great wigthe judge by the way was the king and as he wore his crown over thewig look at the frontispiece if you want to see how he did it he didnot look at all comfortable and it was certainly not becomingand thats the jurybox thought alice and those twelve creaturesshe was obliged to say creatures you see because some of them wereanimals and some were birds i suppose they are the jurors she saidthis last word two or three times over to herself being rather proud ofit for she thought and rightly too that very few little girls of herage knew the meaning of it at all however jurymen would have donejust as wellthe twelve jurors were all writing very busily on slates what are theydoing alice whispered to the gryphon they cant have anything to putdown yet before the trials beguntheyre putting down their names the gryphon whispered in reply forfear they should forget them before the end of the trialstupid things alice began in a loud indignant voice but she stoppedhastily for the white rabbit cried out silence in the court and theking put on his spectacles and looked anxiously round to make out whowas talkingalice could see as well as if she were looking over their shouldersthat all the jurors were writing down stupid things on their slatesand she could even make out that one of them didnt know how to spellstupid and that he had to ask his neighbour to tell him a nicemuddle their slatesll be in before the trials over thought aliceone of the jurors had a pencil that squeaked this of course alicecould not stand and she went round the court and got behind him andvery soon found an opportunity of taking it away she did it so quicklythat the poor little juror it was bill the lizard could not make outat all what had become of it so after hunting all about for it he wasobliged to write with one finger for the rest of the day and this wasof very little use as it left no mark on the slateherald read the accusation said the kingon this the white rabbit blew three blasts on the trumpet and thenunrolled the parchment scroll and read as follows   the queen of hearts she made some tarts      all on a summer day    the knave of hearts he stole those tarts      and took them quite awayconsider your verdict the king said to the jurynot yet not yet the rabbit hastily interrupted theres a greatdeal to come before thatcall the first witness said the king and the white rabbit blew threeblasts on the trumpet and called out first witnessthe first witness was the hatter he came in with a teacup in onehand and a piece of breadandbutter in the other i beg pardon yourmajesty he began for bringing these in but i hadnt quite finishedmy tea when i was sent foryou ought to have finished said the king when did you beginthe hatter looked at the march hare who had followed him into thecourt arminarm with the dormouse fourteenth of march i think itwas he saidfifteenth said the march haresixteenth added the dormousewrite that down the king said to the jury and the jury eagerlywrote down all three dates on their slates and then added them up andreduced the answer to shillings and pencetake off your hat the king said to the hatterit isnt mine said the hatterstolen the king exclaimed turning to the jury who instantly made amemorandum of the facti keep them to sell the hatter added as an explanation ive none ofmy own im a hatterhere the queen put on her spectacles and began staring at the hatterwho turned pale and fidgetedgive your evidence said the king and dont be nervous or ill haveyou executed on the spotthis did not seem to encourage the witness at all he kept shiftingfrom one foot to the other looking uneasily at the queen and inhis confusion he bit a large piece out of his teacup instead of thebreadandbutterjust at this moment alice felt a very curious sensation which puzzledher a good deal until she made out what it was she was beginning togrow larger again and she thought at first she would get up and leavethe court but on second thoughts she decided to remain where she was aslong as there was room for heri wish you wouldnt squeeze so said the dormouse who was sittingnext to her i can hardly breathei cant help it said alice very meekly im growingyouve no right to grow here said the dormousedont talk nonsense said alice more boldly you know youre growingtooyes but i grow at a reasonable pace said the dormouse not in thatridiculous fashion and he got up very sulkily and crossed over to theother side of the courtall this time the queen had never left off staring at the hatter andjust as the dormouse crossed the court she said to one of the officersof the court bring me the list of the singers in the last concert onwhich the wretched hatter trembled so that he shook both his shoes offgive your evidence the king repeated angrily or ill have youexecuted whether youre nervous or notim a poor man your majesty the hatter began in a trembling voiceand i hadnt begun my teanot above a week or soand what with thebreadandbutter getting so thinand the twinkling of the teathe twinkling of the what said the kingit began with the tea the hatter repliedof course twinkling begins with a t said the king sharply do youtake me for a dunce go onim a poor man the hatter went on and most things twinkled afterthatonly the march hare saidi didnt the march hare interrupted in a great hurryyou did said the hatteri deny it said the march harehe denies it said the king leave out that partwell at any rate the dormouse said the hatter went on lookinganxiously round to see if he would deny it too but the dormouse deniednothing being fast asleepafter that continued the hatter i cut some more breadandbutterbut what did the dormouse say one of the jury askedthat i cant remember said the hatteryou must remember remarked the king or ill have you executedthe miserable hatter dropped his teacup and breadandbutter and wentdown on one knee im a poor man your majesty he beganyoure a very poor speaker said the kinghere one of the guineapigs cheered and was immediately suppressed bythe officers of the court as that is rather a hard word i will justexplain to you how it was done they had a large canvas bag which tiedup at the mouth with strings into this they slipped the guineapighead first and then sat upon itim glad ive seen that done thought alice ive so often readin the newspapers at the end of trials there was some attemptsat applause which was immediately suppressed by the officers of thecourt and i never understood what it meant till nowif thats all you know about it you may stand down continued thekingi cant go no lower said the hatter im on the floor as it isthen you may sit down the king repliedhere the other guineapig cheered and was suppressedcome that finished the guineapigs thought alice now we shall geton betterid rather finish my tea said the hatter with an anxious look at thequeen who was reading the list of singersyou may go said the king and the hatter hurriedly left the courtwithout even waiting to put his shoes onand just take his head off outside the queen added to one of theofficers but the hatter was out of sight before the officer could getto the doorcall the next witness said the kingthe next witness was the duchesss cook she carried the pepperbox inher hand and alice guessed who it was even before she got into thecourt by the way the people near the door began sneezing all at oncegive your evidence said the kingshant said the cookthe king looked anxiously at the white rabbit who said in a low voiceyour majesty must crossexamine this witnesswell if i must i must the king said with a melancholy air andafter folding his arms and frowning at the cook till his eyes werenearly out of sight he said in a deep voice what are tarts made ofpepper mostly said the cooktreacle said a sleepy voice behind hercollar that dormouse the queen shrieked out behead that dormouseturn that dormouse out of court suppress him pinch him off with hiswhiskersfor some minutes the whole court was in confusion getting the dormouseturned out and by the time they had settled down again the cook haddisappearednever mind said the king with an air of great relief call the nextwitness and he added in an undertone to the queen really my dearyou must crossexamine the next witness it quite makes my foreheadachealice watched the white rabbit as he fumbled over the list feeling verycurious to see what the next witness would be like for they haventgot much evidence yet she said to herself imagine her surprise whenthe white rabbit read out at the top of his shrill little voice thename alicechapter xii alices evidencehere cried alice quite forgetting in the flurry of the moment howlarge she had grown in the last few minutes and she jumped up in sucha hurry that she tipped over the jurybox with the edge of her skirtupsetting all the jurymen on to the heads of the crowd below and therethey lay sprawling about reminding her very much of a globe of goldfishshe had accidentally upset the week beforeoh i beg your pardon she exclaimed in a tone of great dismay andbegan picking them up again as quickly as she could for the accident ofthe goldfish kept running in her head and she had a vague sort of ideathat they must be collected at once and put back into the jurybox orthey would diethe trial cannot proceed said the king in a very grave voice untilall the jurymen are back in their proper placesall he repeated withgreat emphasis looking hard at alice as he said doalice looked at the jurybox and saw that in her haste she had putthe lizard in head downwards and the poor little thing was waving itstail about in a melancholy way being quite unable to move she soon gotit out again and put it right not that it signifies much she saidto herself i should think it would be quite as much use in the trialone way up as the otheras soon as the jury had a little recovered from the shock of beingupset and their slates and pencils had been found and handed back tothem they set to work very diligently to write out a history of theaccident all except the lizard who seemed too much overcome to doanything but sit with its mouth open gazing up into the roof of thecourtwhat do you know about this business the king said to alicenothing said alicenothing whatever persisted the kingnothing whatever said alicethats very important the king said turning to the jury they werejust beginning to write this down on their slates when the white rabbitinterrupted unimportant your majesty means of course he said in avery respectful tone but frowning and making faces at him as he spokeunimportant of course i meant the king hastily said and went onto himself in an undertoneimportantunimportantunimportantimportant as if he were tryingwhich word sounded bestsome of the jury wrote it down important and some unimportantalice could see this as she was near enough to look over their slatesbut it doesnt matter a bit she thought to herselfat this moment the king who had been for some time busily writing inhis notebook cackled out silence and read out from his book rulefortytwo all persons more than a mile high to leave the courteverybody looked at aliceim not a mile high said aliceyou are said the kingnearly two miles high added the queenwell i shant go at any rate said alice besides thats not aregular rule you invented it just nowits the oldest rule in the book said the kingthen it ought to be number one said alicethe king turned pale and shut his notebook hastily consider yourverdict he said to the jury in a low trembling voicetheres more evidence to come yet please your majesty said the whiterabbit jumping up in a great hurry this paper has just been pickedupwhats in it said the queeni havent opened it yet said the white rabbit but it seems to be aletter written by the prisoner toto somebodyit must have been that said the king unless it was written tonobody which isnt usual you knowwho is it directed to said one of the jurymenit isnt directed at all said the white rabbit in fact theresnothing written on the outside he unfolded the paper as he spoke andadded it isnt a letter after all its a set of versesare they in the prisoners handwriting asked another of the jurymenno theyre not said the white rabbit and thats the queerest thingabout it the jury all looked puzzledhe must have imitated somebody elses hand said the king the juryall brightened up againplease your majesty said the knave i didnt write it and theycant prove i did theres no name signed at the endif you didnt sign it said the king that only makes the matterworse you must have meant some mischief or else youd have signed yourname like an honest manthere was a general clapping of hands at this it was the first reallyclever thing the king had said that daythat proves his guilt said the queenit proves nothing of the sort said alice why you dont even knowwhat theyre aboutread them said the kingthe white rabbit put on his spectacles where shall i begin pleaseyour majesty he askedbegin at the beginning the king said gravely and go on till youcome to the end then stopthese were the verses the white rabbit read   they told me you had been to her    and mentioned me to him   she gave me a good character    but said i could not swim   he sent them word i had not gone    we know it to be true   if she should push the matter on    what would become of you   i gave her one they gave him two    you gave us three or more   they all returned from him to you    though they were mine before   if i or she should chance to be    involved in this affair   he trusts to you to set them free    exactly as we were   my notion was that you had been    before she had this fit   an obstacle that came between    him and ourselves and it   dont let him know she liked them best    for this must ever be   a secret kept from all the rest    between yourself and methats the most important piece of evidence weve heard yet said theking rubbing his hands so now let the juryif any one of them can explain it said alice she had grown so largein the last few minutes that she wasnt a bit afraid of interruptinghim ill give him sixpence i dont believe theres an atom ofmeaning in itthe jury all wrote down on their slates she doesnt believe theres anatom of meaning in it but none of them attempted to explain the paperif theres no meaning in it said the king that saves a world oftrouble you know as we neednt try to find any and yet i dont knowhe went on spreading out the verses on his knee and looking at themwith one eye i seem to see some meaning in them after all saidi could not swim you cant swim can you he added turning to theknavethe knave shook his head sadly do i look like it he said which hecertainly did not being made entirely of cardboardall right so far said the king and he went on muttering overthe verses to himself we know it to be true thats the jury ofcoursei gave her one they gave him two why that must be what hedid with the tarts you knowbut it goes on they all returned from him to you said alicewhy there they are said the king triumphantly pointing to the tartson the table nothing can be clearer than that then againbefore shehad this fit you never had fits my dear i think he said to thequeennever said the queen furiously throwing an inkstand at the lizardas she spoke the unfortunate little bill had left off writing on hisslate with one finger as he found it made no mark but he now hastilybegan again using the ink that was trickling down his face as long asit lastedthen the words dont fit you said the king looking round the courtwith a smile there was a dead silenceits a pun the king added in an offended tone and everybody laughedlet the jury consider their verdict the king said for about thetwentieth time that dayno no said the queen sentence firstverdict afterwardsstuff and nonsense said alice loudly the idea of having thesentence firsthold your tongue said the queen turning purplei wont said aliceoff with her head the queen shouted at the top of her voice nobodymovedwho cares for you said alice she had grown to her full size by thistime youre nothing but a pack of cardsat this the whole pack rose up into the air and came flying down uponher she gave a little scream half of fright and half of anger andtried to beat them off and found herself lying on the bank with herhead in the lap of her sister who was gently brushing away some deadleaves that had fluttered down from the trees upon her facewake up alice dear said her sister why what a long sleep youvehadoh ive had such a curious dream said alice and she told hersister as well as she could remember them all these strange adventuresof hers that you have just been reading about and when she hadfinished her sister kissed her and said it was a curious dreamdear certainly but now run in to your tea its getting late soalice got up and ran off thinking while she ran as well she mightwhat a wonderful dream it had beenbut her sister sat still just as she left her leaning her head on herhand watching the setting sun and thinking of little alice and all herwonderful adventures till she too began dreaming after a fashion andthis was her dreamfirst she dreamed of little alice herself and once again the tinyhands were clasped upon her knee and the bright eager eyes were lookingup into hersshe could hear the very tones of her voice and see thatqueer little toss of her head to keep back the wandering hair thatwould always get into her eyesand still as she listened or seemed tolisten the whole place around her became alive with the strange creaturesof her little sisters dreamthe long grass rustled at her feet as the white rabbit hurried bythefrightened mouse splashed his way through the neighbouring poolshecould hear the rattle of the teacups as the march hare and his friendsshared their neverending meal and the shrill voice of the queenordering off her unfortunate guests to executiononce more the pigbabywas sneezing on the duchesss knee while plates and dishes crashedaround itonce more the shriek of the gryphon the squeaking of thelizards slatepencil and the choking of the suppressed guineapigsfilled the air mixed up with the distant sobs of the miserable mockturtleso she sat on with closed eyes and half believed herself inwonderland though she knew she had but to open them again and allwould change to dull realitythe grass would be only rustling in thewind and the pool rippling to the waving of the reedsthe rattlingteacups would change to tinkling sheepbells and the queens shrillcries to the voice of the shepherd boyand the sneeze of the baby theshriek of the gryphon and all the other queer noises would change sheknew to the confused clamour of the busy farmyardwhile the lowingof the cattle in the distance would take the place of the mock turtlesheavy sobslastly she pictured to herself how this same little sister of herswould in the aftertime be herself a grown woman and how she wouldkeep through all her riper years the simple and loving heart of herchildhood and how she would gather about her other little children andmake their eyes bright and eager with many a strange tale perhaps evenwith the dream of wonderland of long ago and how she would feel withall their simple sorrows and find a pleasure in all their simple joysremembering her own childlife and the happy summer days\n"
          ],
          "name": "stdout"
        }
      ]
    },
    {
      "cell_type": "markdown",
      "metadata": {
        "id": "0ozjcfbLHurX",
        "colab_type": "text"
      },
      "source": [
        "### Converting the Data\n",
        "\n",
        "- We must prepare the data for modeling by the neural network. \n",
        "- We cannot model the characters directly, instead we must convert the characters to integers.\n",
        "- We can do this easily by first creating a set of all of the distinct characters in the book, then creating a map of each character to a unique integer."
      ]
    },
    {
      "cell_type": "code",
      "metadata": {
        "id": "G1piF_doB1Yc",
        "colab_type": "code",
        "colab": {}
      },
      "source": [
        "# create mapping of unique chars to integers\n",
        "chars = sorted(list(set(raw_text)))\n",
        "char_to_int = dict((c, i) for i, c in enumerate(chars))"
      ],
      "execution_count": 0,
      "outputs": []
    },
    {
      "cell_type": "code",
      "metadata": {
        "id": "cIc0CPrSIHhS",
        "colab_type": "code",
        "outputId": "5a7b9f98-6e2a-4ead-c5ac-fe41c12b0e00",
        "colab": {
          "base_uri": "https://localhost:8080/",
          "height": 54
        }
      },
      "source": [
        "print(char_to_int)"
      ],
      "execution_count": 6,
      "outputs": [
        {
          "output_type": "stream",
          "text": [
            "{' ': 0, 'a': 1, 'b': 2, 'c': 3, 'd': 4, 'e': 5, 'f': 6, 'g': 7, 'h': 8, 'i': 9, 'j': 10, 'k': 11, 'l': 12, 'm': 13, 'n': 14, 'o': 15, 'p': 16, 'q': 17, 'r': 18, 's': 19, 't': 20, 'u': 21, 'v': 22, 'w': 23, 'x': 24, 'y': 25, 'z': 26}\n"
          ],
          "name": "stdout"
        }
      ]
    },
    {
      "cell_type": "markdown",
      "metadata": {
        "id": "dWF3j4FCH4p2",
        "colab_type": "text"
      },
      "source": [
        "### Summarize the data"
      ]
    },
    {
      "cell_type": "code",
      "metadata": {
        "id": "n8zroW69IxkE",
        "colab_type": "code",
        "outputId": "bca38e5d-0d02-44ef-dcc6-c24b9d24783c",
        "colab": {
          "base_uri": "https://localhost:8080/",
          "height": 50
        }
      },
      "source": [
        "n_chars = len(raw_text)\n",
        "n_vocab = len(chars)\n",
        "print(\"Total Characters: \", n_chars)\n",
        "print(\"Total Vocab: \", n_vocab)"
      ],
      "execution_count": 7,
      "outputs": [
        {
          "output_type": "stream",
          "text": [
            "Total Characters:  132674\n",
            "Total Vocab:  27\n"
          ],
          "name": "stdout"
        }
      ]
    },
    {
      "cell_type": "markdown",
      "metadata": {
        "id": "Q5N7I4gfSVjH",
        "colab_type": "text"
      },
      "source": [
        "### Prepare the dataset"
      ]
    },
    {
      "cell_type": "code",
      "metadata": {
        "id": "geg5B3TGI0pD",
        "colab_type": "code",
        "outputId": "33a6a9a3-83c6-4b3d-a6a6-577bd6ade8bd",
        "colab": {
          "base_uri": "https://localhost:8080/",
          "height": 34
        }
      },
      "source": [
        "# prepare the dataset of input to output pairs encoded as integers\n",
        "seq_length = 100\n",
        "dataX = []\n",
        "dataY = []\n",
        "for i in range(0, n_chars - seq_length, 1):\n",
        "  seq_in = raw_text[i:i + seq_length]\n",
        "  seq_out = raw_text[i + seq_length]\n",
        "  dataX.append([char_to_int[char] for char in seq_in])\n",
        "  dataY.append(char_to_int[seq_out])\n",
        "n_patterns = len(dataX)\n",
        "print(\"Total Patterns: \", n_patterns)"
      ],
      "execution_count": 8,
      "outputs": [
        {
          "output_type": "stream",
          "text": [
            "Total Patterns:  132574\n"
          ],
          "name": "stdout"
        }
      ]
    },
    {
      "cell_type": "markdown",
      "metadata": {
        "id": "K1LjaZOiQnFf",
        "colab_type": "text"
      },
      "source": [
        "### Reshaping, Normalizing and One-Hot Encoding"
      ]
    },
    {
      "cell_type": "code",
      "metadata": {
        "id": "pCb3cL6oa1VW",
        "colab_type": "code",
        "colab": {}
      },
      "source": [
        "# reshape X to be [samples, time steps, features]\n",
        "X = numpy.reshape(dataX, (n_patterns, seq_length, 1))\n",
        "# normalize\n",
        "X = X / float(n_vocab)\n",
        "# one hot encode the output variable\n",
        "y = np_utils.to_categorical(dataY)"
      ],
      "execution_count": 0,
      "outputs": []
    },
    {
      "cell_type": "code",
      "metadata": {
        "id": "9s1IOx8ndc8y",
        "colab_type": "code",
        "outputId": "6f957061-0e4c-4fda-bf8e-05c0696e58d6",
        "colab": {
          "base_uri": "https://localhost:8080/",
          "height": 34
        }
      },
      "source": [
        "print(X.shape[:])\n",
        "# print(X)"
      ],
      "execution_count": 10,
      "outputs": [
        {
          "output_type": "stream",
          "text": [
            "(132574, 100, 1)\n"
          ],
          "name": "stdout"
        }
      ]
    },
    {
      "cell_type": "markdown",
      "metadata": {
        "id": "GPLNDxFaQNW7",
        "colab_type": "text"
      },
      "source": [
        "### Model Architecture"
      ]
    },
    {
      "cell_type": "code",
      "metadata": {
        "id": "UAgQWfMHa4vA",
        "colab_type": "code",
        "outputId": "51e6c5c2-d09e-4008-da77-28afa1344c5c",
        "colab": {
          "base_uri": "https://localhost:8080/",
          "height": 306
        }
      },
      "source": [
        "# define the LSTM model\n",
        "model = Sequential()\n",
        "model.add(LSTM(256, input_shape=(X.shape[1], X.shape[2]), return_sequences=True))\n",
        "model.add(Dropout(0.1))\n",
        "model.add(LSTM(256))\n",
        "model.add(Dense(y.shape[1], activation='softmax'))\n",
        "\n",
        "model.compile(loss='categorical_crossentropy', optimizer='adam')"
      ],
      "execution_count": 12,
      "outputs": [
        {
          "output_type": "stream",
          "text": [
            "WARNING: Logging before flag parsing goes to stderr.\n",
            "W0727 05:27:31.049972 140594308777856 deprecation_wrapper.py:119] From /usr/local/lib/python3.6/dist-packages/keras/backend/tensorflow_backend.py:74: The name tf.get_default_graph is deprecated. Please use tf.compat.v1.get_default_graph instead.\n",
            "\n",
            "W0727 05:27:31.087101 140594308777856 deprecation_wrapper.py:119] From /usr/local/lib/python3.6/dist-packages/keras/backend/tensorflow_backend.py:517: The name tf.placeholder is deprecated. Please use tf.compat.v1.placeholder instead.\n",
            "\n",
            "W0727 05:27:31.093406 140594308777856 deprecation_wrapper.py:119] From /usr/local/lib/python3.6/dist-packages/keras/backend/tensorflow_backend.py:4138: The name tf.random_uniform is deprecated. Please use tf.random.uniform instead.\n",
            "\n",
            "W0727 05:27:31.408314 140594308777856 deprecation_wrapper.py:119] From /usr/local/lib/python3.6/dist-packages/keras/backend/tensorflow_backend.py:133: The name tf.placeholder_with_default is deprecated. Please use tf.compat.v1.placeholder_with_default instead.\n",
            "\n",
            "W0727 05:27:31.417314 140594308777856 deprecation.py:506] From /usr/local/lib/python3.6/dist-packages/keras/backend/tensorflow_backend.py:3445: calling dropout (from tensorflow.python.ops.nn_ops) with keep_prob is deprecated and will be removed in a future version.\n",
            "Instructions for updating:\n",
            "Please use `rate` instead of `keep_prob`. Rate should be set to `rate = 1 - keep_prob`.\n",
            "W0727 05:27:31.709079 140594308777856 deprecation_wrapper.py:119] From /usr/local/lib/python3.6/dist-packages/keras/optimizers.py:790: The name tf.train.Optimizer is deprecated. Please use tf.compat.v1.train.Optimizer instead.\n",
            "\n",
            "W0727 05:27:31.731397 140594308777856 deprecation_wrapper.py:119] From /usr/local/lib/python3.6/dist-packages/keras/backend/tensorflow_backend.py:3295: The name tf.log is deprecated. Please use tf.math.log instead.\n",
            "\n"
          ],
          "name": "stderr"
        }
      ]
    },
    {
      "cell_type": "markdown",
      "metadata": {
        "id": "_AjDF4YPQU8p",
        "colab_type": "text"
      },
      "source": [
        "### Callbacks"
      ]
    },
    {
      "cell_type": "code",
      "metadata": {
        "id": "7CKUOof4bG8f",
        "colab_type": "code",
        "colab": {}
      },
      "source": [
        "# define the checkpoint\n",
        "filepath=\"Models/weights-improvement-{epoch:02d}-{loss:.4f}.hdf5\"\n",
        "checkpoint = ModelCheckpoint(filepath, monitor='loss', verbose=1, save_best_only=True, mode='min')\n",
        "callbacks_list = [checkpoint]"
      ],
      "execution_count": 0,
      "outputs": []
    },
    {
      "cell_type": "markdown",
      "metadata": {
        "id": "rxe3anxzQZSJ",
        "colab_type": "text"
      },
      "source": [
        "### Model Training"
      ]
    },
    {
      "cell_type": "code",
      "metadata": {
        "id": "bMjOJl4cbcYj",
        "colab_type": "code",
        "outputId": "31c76a91-e05f-46cd-8261-462b5a62b11d",
        "colab": {
          "base_uri": "https://localhost:8080/",
          "height": 1000
        }
      },
      "source": [
        "model.fit(X, y, epochs=100, batch_size=128, callbacks=callbacks_list)"
      ],
      "execution_count": 15,
      "outputs": [
        {
          "output_type": "stream",
          "text": [
            "Epoch 1/100\n",
            "132574/132574 [==============================] - 277s 2ms/step - loss: 2.6928\n",
            "\n",
            "Epoch 00001: loss improved from inf to 2.69276, saving model to Models/weights-improvement-01-2.6928.hdf5\n",
            "Epoch 2/100\n",
            "132574/132574 [==============================] - 277s 2ms/step - loss: 2.2879\n",
            "\n",
            "Epoch 00002: loss improved from 2.69276 to 2.28786, saving model to Models/weights-improvement-02-2.2879.hdf5\n",
            "Epoch 3/100\n",
            "132574/132574 [==============================] - 274s 2ms/step - loss: 2.0702\n",
            "\n",
            "Epoch 00003: loss improved from 2.28786 to 2.07023, saving model to Models/weights-improvement-03-2.0702.hdf5\n",
            "Epoch 4/100\n",
            "132574/132574 [==============================] - 275s 2ms/step - loss: 1.9285\n",
            "\n",
            "Epoch 00004: loss improved from 2.07023 to 1.92853, saving model to Models/weights-improvement-04-1.9285.hdf5\n",
            "Epoch 5/100\n",
            "132574/132574 [==============================] - 275s 2ms/step - loss: 1.8256\n",
            "\n",
            "Epoch 00005: loss improved from 1.92853 to 1.82564, saving model to Models/weights-improvement-05-1.8256.hdf5\n",
            "Epoch 6/100\n",
            "132574/132574 [==============================] - 275s 2ms/step - loss: 1.7430\n",
            "\n",
            "Epoch 00006: loss improved from 1.82564 to 1.74302, saving model to Models/weights-improvement-06-1.7430.hdf5\n",
            "Epoch 7/100\n",
            "132574/132574 [==============================] - 274s 2ms/step - loss: 1.6737\n",
            "\n",
            "Epoch 00007: loss improved from 1.74302 to 1.67368, saving model to Models/weights-improvement-07-1.6737.hdf5\n",
            "Epoch 8/100\n",
            "132574/132574 [==============================] - 275s 2ms/step - loss: 1.6111\n",
            "\n",
            "Epoch 00008: loss improved from 1.67368 to 1.61114, saving model to Models/weights-improvement-08-1.6111.hdf5\n",
            "Epoch 9/100\n",
            "132574/132574 [==============================] - 275s 2ms/step - loss: 1.5579\n",
            "\n",
            "Epoch 00009: loss improved from 1.61114 to 1.55792, saving model to Models/weights-improvement-09-1.5579.hdf5\n",
            "Epoch 10/100\n",
            "132574/132574 [==============================] - 275s 2ms/step - loss: 1.5093\n",
            "\n",
            "Epoch 00010: loss improved from 1.55792 to 1.50929, saving model to Models/weights-improvement-10-1.5093.hdf5\n",
            "Epoch 11/100\n",
            "132574/132574 [==============================] - 275s 2ms/step - loss: 1.4627\n",
            "\n",
            "Epoch 00011: loss improved from 1.50929 to 1.46269, saving model to Models/weights-improvement-11-1.4627.hdf5\n",
            "Epoch 12/100\n",
            "132574/132574 [==============================] - 272s 2ms/step - loss: 1.4237\n",
            "\n",
            "Epoch 00012: loss improved from 1.46269 to 1.42371, saving model to Models/weights-improvement-12-1.4237.hdf5\n",
            "Epoch 13/100\n",
            "132574/132574 [==============================] - 274s 2ms/step - loss: 1.3827\n",
            "\n",
            "Epoch 00013: loss improved from 1.42371 to 1.38268, saving model to Models/weights-improvement-13-1.3827.hdf5\n",
            "Epoch 14/100\n",
            "132574/132574 [==============================] - 275s 2ms/step - loss: 1.3454\n",
            "\n",
            "Epoch 00014: loss improved from 1.38268 to 1.34543, saving model to Models/weights-improvement-14-1.3454.hdf5\n",
            "Epoch 15/100\n",
            "132574/132574 [==============================] - 274s 2ms/step - loss: 1.3127\n",
            "\n",
            "Epoch 00015: loss improved from 1.34543 to 1.31269, saving model to Models/weights-improvement-15-1.3127.hdf5\n",
            "Epoch 16/100\n",
            "132574/132574 [==============================] - 275s 2ms/step - loss: 1.2768\n",
            "\n",
            "Epoch 00016: loss improved from 1.31269 to 1.27680, saving model to Models/weights-improvement-16-1.2768.hdf5\n",
            "Epoch 17/100\n",
            "132574/132574 [==============================] - 276s 2ms/step - loss: 1.2463\n",
            "\n",
            "Epoch 00017: loss improved from 1.27680 to 1.24627, saving model to Models/weights-improvement-17-1.2463.hdf5\n",
            "Epoch 18/100\n",
            "132574/132574 [==============================] - 273s 2ms/step - loss: 1.2186\n",
            "\n",
            "Epoch 00018: loss improved from 1.24627 to 1.21860, saving model to Models/weights-improvement-18-1.2186.hdf5\n",
            "Epoch 19/100\n",
            "132574/132574 [==============================] - 273s 2ms/step - loss: 1.1894\n",
            "\n",
            "Epoch 00019: loss improved from 1.21860 to 1.18937, saving model to Models/weights-improvement-19-1.1894.hdf5\n",
            "Epoch 20/100\n",
            "132574/132574 [==============================] - 273s 2ms/step - loss: 1.1615\n",
            "\n",
            "Epoch 00020: loss improved from 1.18937 to 1.16154, saving model to Models/weights-improvement-20-1.1615.hdf5\n",
            "Epoch 21/100\n",
            "132574/132574 [==============================] - 274s 2ms/step - loss: 1.1348\n",
            "\n",
            "Epoch 00021: loss improved from 1.16154 to 1.13476, saving model to Models/weights-improvement-21-1.1348.hdf5\n",
            "Epoch 22/100\n",
            "132574/132574 [==============================] - 274s 2ms/step - loss: 1.1128\n",
            "\n",
            "Epoch 00022: loss improved from 1.13476 to 1.11285, saving model to Models/weights-improvement-22-1.1128.hdf5\n",
            "Epoch 23/100\n",
            "132574/132574 [==============================] - 274s 2ms/step - loss: 1.0898\n",
            "\n",
            "Epoch 00023: loss improved from 1.11285 to 1.08978, saving model to Models/weights-improvement-23-1.0898.hdf5\n",
            "Epoch 24/100\n",
            "132574/132574 [==============================] - 274s 2ms/step - loss: 1.0698\n",
            "\n",
            "Epoch 00024: loss improved from 1.08978 to 1.06979, saving model to Models/weights-improvement-24-1.0698.hdf5\n",
            "Epoch 25/100\n",
            "132574/132574 [==============================] - 272s 2ms/step - loss: 1.0480\n",
            "\n",
            "Epoch 00025: loss improved from 1.06979 to 1.04795, saving model to Models/weights-improvement-25-1.0480.hdf5\n",
            "Epoch 26/100\n",
            "132574/132574 [==============================] - 269s 2ms/step - loss: 1.0274\n",
            "\n",
            "Epoch 00026: loss improved from 1.04795 to 1.02738, saving model to Models/weights-improvement-26-1.0274.hdf5\n",
            "Epoch 27/100\n",
            "132574/132574 [==============================] - 268s 2ms/step - loss: 1.0079\n",
            "\n",
            "Epoch 00027: loss improved from 1.02738 to 1.00788, saving model to Models/weights-improvement-27-1.0079.hdf5\n",
            "Epoch 28/100\n",
            "132574/132574 [==============================] - 270s 2ms/step - loss: 0.9924\n",
            "\n",
            "Epoch 00028: loss improved from 1.00788 to 0.99245, saving model to Models/weights-improvement-28-0.9924.hdf5\n",
            "Epoch 29/100\n",
            "132574/132574 [==============================] - 269s 2ms/step - loss: 0.9749\n",
            "\n",
            "Epoch 00029: loss improved from 0.99245 to 0.97488, saving model to Models/weights-improvement-29-0.9749.hdf5\n",
            "Epoch 30/100\n",
            "132574/132574 [==============================] - 275s 2ms/step - loss: 0.9595\n",
            "\n",
            "Epoch 00030: loss improved from 0.97488 to 0.95951, saving model to Models/weights-improvement-30-0.9595.hdf5\n",
            "Epoch 31/100\n",
            "132574/132574 [==============================] - 275s 2ms/step - loss: 0.9466\n",
            "\n",
            "Epoch 00031: loss improved from 0.95951 to 0.94663, saving model to Models/weights-improvement-31-0.9466.hdf5\n",
            "Epoch 32/100\n",
            "132574/132574 [==============================] - 274s 2ms/step - loss: 0.9267\n",
            "\n",
            "Epoch 00032: loss improved from 0.94663 to 0.92669, saving model to Models/weights-improvement-32-0.9267.hdf5\n",
            "Epoch 33/100\n",
            "132574/132574 [==============================] - 274s 2ms/step - loss: 0.9196\n",
            "\n",
            "Epoch 00033: loss improved from 0.92669 to 0.91964, saving model to Models/weights-improvement-33-0.9196.hdf5\n",
            "Epoch 34/100\n",
            "132574/132574 [==============================] - 274s 2ms/step - loss: 0.9034\n",
            "\n",
            "Epoch 00034: loss improved from 0.91964 to 0.90340, saving model to Models/weights-improvement-34-0.9034.hdf5\n",
            "Epoch 35/100\n",
            "132574/132574 [==============================] - 275s 2ms/step - loss: 0.8905\n",
            "\n",
            "Epoch 00035: loss improved from 0.90340 to 0.89052, saving model to Models/weights-improvement-35-0.8905.hdf5\n",
            "Epoch 36/100\n",
            "132574/132574 [==============================] - 272s 2ms/step - loss: 0.8779\n",
            "\n",
            "Epoch 00036: loss improved from 0.89052 to 0.87786, saving model to Models/weights-improvement-36-0.8779.hdf5\n",
            "Epoch 37/100\n",
            "132574/132574 [==============================] - 271s 2ms/step - loss: 0.8678\n",
            "\n",
            "Epoch 00037: loss improved from 0.87786 to 0.86784, saving model to Models/weights-improvement-37-0.8678.hdf5\n",
            "Epoch 38/100\n",
            "132574/132574 [==============================] - 271s 2ms/step - loss: 0.8589\n",
            "\n",
            "Epoch 00038: loss improved from 0.86784 to 0.85885, saving model to Models/weights-improvement-38-0.8589.hdf5\n",
            "Epoch 39/100\n",
            "132574/132574 [==============================] - 271s 2ms/step - loss: 0.8487\n",
            "\n",
            "Epoch 00039: loss improved from 0.85885 to 0.84871, saving model to Models/weights-improvement-39-0.8487.hdf5\n",
            "Epoch 40/100\n",
            "132574/132574 [==============================] - 272s 2ms/step - loss: 0.8373\n",
            "\n",
            "Epoch 00040: loss improved from 0.84871 to 0.83728, saving model to Models/weights-improvement-40-0.8373.hdf5\n",
            "Epoch 41/100\n",
            "132574/132574 [==============================] - 273s 2ms/step - loss: 0.8264\n",
            "\n",
            "Epoch 00041: loss improved from 0.83728 to 0.82644, saving model to Models/weights-improvement-41-0.8264.hdf5\n",
            "Epoch 42/100\n",
            "132574/132574 [==============================] - 273s 2ms/step - loss: 0.8133\n",
            "\n",
            "Epoch 00042: loss improved from 0.82644 to 0.81326, saving model to Models/weights-improvement-42-0.8133.hdf5\n",
            "Epoch 43/100\n",
            "132574/132574 [==============================] - 272s 2ms/step - loss: 0.8094\n",
            "\n",
            "Epoch 00043: loss improved from 0.81326 to 0.80937, saving model to Models/weights-improvement-43-0.8094.hdf5\n",
            "Epoch 44/100\n",
            "132574/132574 [==============================] - 275s 2ms/step - loss: 0.7957\n",
            "\n",
            "Epoch 00044: loss improved from 0.80937 to 0.79570, saving model to Models/weights-improvement-44-0.7957.hdf5\n",
            "Epoch 45/100\n",
            "132574/132574 [==============================] - 270s 2ms/step - loss: 0.7879\n",
            "\n",
            "Epoch 00045: loss improved from 0.79570 to 0.78790, saving model to Models/weights-improvement-45-0.7879.hdf5\n",
            "Epoch 46/100\n",
            "132574/132574 [==============================] - 271s 2ms/step - loss: 0.7820\n",
            "\n",
            "Epoch 00046: loss improved from 0.78790 to 0.78200, saving model to Models/weights-improvement-46-0.7820.hdf5\n",
            "Epoch 47/100\n",
            "132574/132574 [==============================] - 271s 2ms/step - loss: 0.7796\n",
            "\n",
            "Epoch 00047: loss improved from 0.78200 to 0.77958, saving model to Models/weights-improvement-47-0.7796.hdf5\n",
            "Epoch 48/100\n",
            "132574/132574 [==============================] - 272s 2ms/step - loss: 0.7639\n",
            "\n",
            "Epoch 00048: loss improved from 0.77958 to 0.76393, saving model to Models/weights-improvement-48-0.7639.hdf5\n",
            "Epoch 49/100\n",
            "132574/132574 [==============================] - 272s 2ms/step - loss: 0.7594\n",
            "\n",
            "Epoch 00049: loss improved from 0.76393 to 0.75942, saving model to Models/weights-improvement-49-0.7594.hdf5\n",
            "Epoch 50/100\n",
            "132574/132574 [==============================] - 276s 2ms/step - loss: 0.7559\n",
            "\n",
            "Epoch 00050: loss improved from 0.75942 to 0.75586, saving model to Models/weights-improvement-50-0.7559.hdf5\n",
            "Epoch 51/100\n",
            "132574/132574 [==============================] - 272s 2ms/step - loss: 0.7455\n",
            "\n",
            "Epoch 00051: loss improved from 0.75586 to 0.74550, saving model to Models/weights-improvement-51-0.7455.hdf5\n",
            "Epoch 52/100\n",
            "132574/132574 [==============================] - 272s 2ms/step - loss: 0.7414\n",
            "\n",
            "Epoch 00052: loss improved from 0.74550 to 0.74136, saving model to Models/weights-improvement-52-0.7414.hdf5\n",
            "Epoch 53/100\n",
            "132574/132574 [==============================] - 272s 2ms/step - loss: 0.7379\n",
            "\n",
            "Epoch 00053: loss improved from 0.74136 to 0.73786, saving model to Models/weights-improvement-53-0.7379.hdf5\n",
            "Epoch 54/100\n",
            "132574/132574 [==============================] - 271s 2ms/step - loss: 0.7280\n",
            "\n",
            "Epoch 00054: loss improved from 0.73786 to 0.72799, saving model to Models/weights-improvement-54-0.7280.hdf5\n",
            "Epoch 55/100\n",
            "132574/132574 [==============================] - 272s 2ms/step - loss: 0.7206\n",
            "\n",
            "Epoch 00055: loss improved from 0.72799 to 0.72056, saving model to Models/weights-improvement-55-0.7206.hdf5\n",
            "Epoch 56/100\n",
            "132574/132574 [==============================] - 271s 2ms/step - loss: 0.7137\n",
            "\n",
            "Epoch 00056: loss improved from 0.72056 to 0.71371, saving model to Models/weights-improvement-56-0.7137.hdf5\n",
            "Epoch 57/100\n",
            "132574/132574 [==============================] - 272s 2ms/step - loss: 0.7114\n",
            "\n",
            "Epoch 00057: loss improved from 0.71371 to 0.71143, saving model to Models/weights-improvement-57-0.7114.hdf5\n",
            "Epoch 58/100\n",
            "132574/132574 [==============================] - 271s 2ms/step - loss: 0.7091\n",
            "\n",
            "Epoch 00058: loss improved from 0.71143 to 0.70909, saving model to Models/weights-improvement-58-0.7091.hdf5\n",
            "Epoch 59/100\n",
            "132574/132574 [==============================] - 272s 2ms/step - loss: 0.7016\n",
            "\n",
            "Epoch 00059: loss improved from 0.70909 to 0.70160, saving model to Models/weights-improvement-59-0.7016.hdf5\n",
            "Epoch 60/100\n",
            "  1664/132574 [..............................] - ETA: 4:25 - loss: 0.6405Buffered data was truncated after reaching the output size limit."
          ],
          "name": "stdout"
        }
      ]
    },
    {
      "cell_type": "code",
      "metadata": {
        "id": "wK2a8mui9B8P",
        "colab_type": "code",
        "colab": {
          "base_uri": "https://localhost:8080/",
          "height": 1000
        },
        "outputId": "c1e6d29a-c730-4dc3-f9bc-36871d309c07"
      },
      "source": [
        "model.fit(X, y, epochs=41, batch_size=128, callbacks=callbacks_list)"
      ],
      "execution_count": 16,
      "outputs": [
        {
          "output_type": "stream",
          "text": [
            "Epoch 1/41\n",
            "132574/132574 [==============================] - 271s 2ms/step - loss: 0.6723\n",
            "\n",
            "Epoch 00001: loss improved from 0.67511 to 0.67227, saving model to Models/weights-improvement-01-0.6723.hdf5\n",
            "Epoch 2/41\n",
            "132574/132574 [==============================] - 272s 2ms/step - loss: 0.6693\n",
            "\n",
            "Epoch 00002: loss improved from 0.67227 to 0.66931, saving model to Models/weights-improvement-02-0.6693.hdf5\n",
            "Epoch 3/41\n",
            "132574/132574 [==============================] - 270s 2ms/step - loss: 0.6673\n",
            "\n",
            "Epoch 00003: loss improved from 0.66931 to 0.66731, saving model to Models/weights-improvement-03-0.6673.hdf5\n",
            "Epoch 4/41\n",
            "132574/132574 [==============================] - 272s 2ms/step - loss: 0.6547\n",
            "\n",
            "Epoch 00004: loss improved from 0.66731 to 0.65470, saving model to Models/weights-improvement-04-0.6547.hdf5\n",
            "Epoch 5/41\n",
            "132574/132574 [==============================] - 272s 2ms/step - loss: 0.6515\n",
            "\n",
            "Epoch 00005: loss improved from 0.65470 to 0.65154, saving model to Models/weights-improvement-05-0.6515.hdf5\n",
            "Epoch 6/41\n",
            "132574/132574 [==============================] - 273s 2ms/step - loss: 0.6539\n",
            "\n",
            "Epoch 00006: loss did not improve from 0.65154\n",
            "Epoch 7/41\n",
            "132574/132574 [==============================] - 272s 2ms/step - loss: 0.6472\n",
            "\n",
            "Epoch 00007: loss improved from 0.65154 to 0.64724, saving model to Models/weights-improvement-07-0.6472.hdf5\n",
            "Epoch 8/41\n",
            "132574/132574 [==============================] - 273s 2ms/step - loss: 0.6387\n",
            "\n",
            "Epoch 00008: loss improved from 0.64724 to 0.63871, saving model to Models/weights-improvement-08-0.6387.hdf5\n",
            "Epoch 9/41\n",
            "132574/132574 [==============================] - 273s 2ms/step - loss: 0.6431\n",
            "\n",
            "Epoch 00009: loss did not improve from 0.63871\n",
            "Epoch 10/41\n",
            "132574/132574 [==============================] - 273s 2ms/step - loss: 0.6395\n",
            "\n",
            "Epoch 00010: loss did not improve from 0.63871\n",
            "Epoch 11/41\n",
            "132574/132574 [==============================] - 271s 2ms/step - loss: 0.6333\n",
            "\n",
            "Epoch 00011: loss improved from 0.63871 to 0.63327, saving model to Models/weights-improvement-11-0.6333.hdf5\n",
            "Epoch 12/41\n",
            "132574/132574 [==============================] - 272s 2ms/step - loss: 0.6248\n",
            "\n",
            "Epoch 00012: loss improved from 0.63327 to 0.62483, saving model to Models/weights-improvement-12-0.6248.hdf5\n",
            "Epoch 13/41\n",
            "132574/132574 [==============================] - 271s 2ms/step - loss: 0.6268\n",
            "\n",
            "Epoch 00013: loss did not improve from 0.62483\n",
            "Epoch 14/41\n",
            "132574/132574 [==============================] - 271s 2ms/step - loss: 0.6246\n",
            "\n",
            "Epoch 00014: loss improved from 0.62483 to 0.62456, saving model to Models/weights-improvement-14-0.6246.hdf5\n",
            "Epoch 15/41\n",
            "132574/132574 [==============================] - 272s 2ms/step - loss: 0.6225\n",
            "\n",
            "Epoch 00015: loss improved from 0.62456 to 0.62246, saving model to Models/weights-improvement-15-0.6225.hdf5\n",
            "Epoch 16/41\n",
            "132574/132574 [==============================] - 272s 2ms/step - loss: 0.6156\n",
            "\n",
            "Epoch 00016: loss improved from 0.62246 to 0.61556, saving model to Models/weights-improvement-16-0.6156.hdf5\n",
            "Epoch 17/41\n",
            "132574/132574 [==============================] - 273s 2ms/step - loss: 0.6067\n",
            "\n",
            "Epoch 00017: loss improved from 0.61556 to 0.60671, saving model to Models/weights-improvement-17-0.6067.hdf5\n",
            "Epoch 18/41\n",
            "132574/132574 [==============================] - 272s 2ms/step - loss: 0.6004\n",
            "\n",
            "Epoch 00018: loss improved from 0.60671 to 0.60041, saving model to Models/weights-improvement-18-0.6004.hdf5\n",
            "Epoch 19/41\n",
            "132574/132574 [==============================] - 272s 2ms/step - loss: 0.6012\n",
            "\n",
            "Epoch 00019: loss did not improve from 0.60041\n",
            "Epoch 20/41\n",
            "132574/132574 [==============================] - 272s 2ms/step - loss: 0.5969\n",
            "\n",
            "Epoch 00020: loss improved from 0.60041 to 0.59691, saving model to Models/weights-improvement-20-0.5969.hdf5\n",
            "Epoch 21/41\n",
            "132574/132574 [==============================] - 270s 2ms/step - loss: 0.5947\n",
            "\n",
            "Epoch 00021: loss improved from 0.59691 to 0.59468, saving model to Models/weights-improvement-21-0.5947.hdf5\n",
            "Epoch 22/41\n",
            "132574/132574 [==============================] - 268s 2ms/step - loss: 0.6006\n",
            "\n",
            "Epoch 00022: loss did not improve from 0.59468\n",
            "Epoch 23/41\n",
            "132574/132574 [==============================] - 269s 2ms/step - loss: 0.5964\n",
            "\n",
            "Epoch 00023: loss did not improve from 0.59468\n",
            "Epoch 24/41\n",
            "132574/132574 [==============================] - 269s 2ms/step - loss: 0.5947\n",
            "\n",
            "Epoch 00024: loss did not improve from 0.59468\n",
            "Epoch 25/41\n",
            "132574/132574 [==============================] - 269s 2ms/step - loss: 0.5803\n",
            "\n",
            "Epoch 00025: loss improved from 0.59468 to 0.58028, saving model to Models/weights-improvement-25-0.5803.hdf5\n",
            "Epoch 26/41\n",
            "132574/132574 [==============================] - 269s 2ms/step - loss: 0.5843\n",
            "\n",
            "Epoch 00026: loss did not improve from 0.58028\n",
            "Epoch 27/41\n",
            "132574/132574 [==============================] - 267s 2ms/step - loss: 0.5796\n",
            "\n",
            "Epoch 00027: loss improved from 0.58028 to 0.57963, saving model to Models/weights-improvement-27-0.5796.hdf5\n",
            "Epoch 28/41\n",
            "132574/132574 [==============================] - 269s 2ms/step - loss: 0.5803\n",
            "\n",
            "Epoch 00028: loss did not improve from 0.57963\n",
            "Epoch 29/41\n",
            "132574/132574 [==============================] - 268s 2ms/step - loss: 0.5782\n",
            "\n",
            "Epoch 00029: loss improved from 0.57963 to 0.57819, saving model to Models/weights-improvement-29-0.5782.hdf5\n",
            "Epoch 30/41\n",
            "132574/132574 [==============================] - 269s 2ms/step - loss: 0.5694\n",
            "\n",
            "Epoch 00030: loss improved from 0.57819 to 0.56936, saving model to Models/weights-improvement-30-0.5694.hdf5\n",
            "Epoch 31/41\n",
            "132574/132574 [==============================] - 268s 2ms/step - loss: 0.5705\n",
            "\n",
            "Epoch 00031: loss did not improve from 0.56936\n",
            "Epoch 32/41\n",
            "132574/132574 [==============================] - 268s 2ms/step - loss: 0.5608\n",
            "\n",
            "Epoch 00032: loss improved from 0.56936 to 0.56076, saving model to Models/weights-improvement-32-0.5608.hdf5\n",
            "Epoch 33/41\n",
            "132574/132574 [==============================] - 269s 2ms/step - loss: 0.5769\n",
            "\n",
            "Epoch 00033: loss did not improve from 0.56076\n",
            "Epoch 34/41\n",
            "132574/132574 [==============================] - 269s 2ms/step - loss: 0.5636\n",
            "\n",
            "Epoch 00034: loss did not improve from 0.56076\n",
            "Epoch 35/41\n",
            "132574/132574 [==============================] - 269s 2ms/step - loss: 0.5579\n",
            "\n",
            "Epoch 00035: loss improved from 0.56076 to 0.55789, saving model to Models/weights-improvement-35-0.5579.hdf5\n",
            "Epoch 36/41\n",
            "132574/132574 [==============================] - 269s 2ms/step - loss: 0.5552\n",
            "\n",
            "Epoch 00036: loss improved from 0.55789 to 0.55520, saving model to Models/weights-improvement-36-0.5552.hdf5\n",
            "Epoch 37/41\n",
            "132574/132574 [==============================] - 269s 2ms/step - loss: 0.5592\n",
            "\n",
            "Epoch 00037: loss did not improve from 0.55520\n",
            "Epoch 38/41\n",
            "132574/132574 [==============================] - 269s 2ms/step - loss: 0.5514\n",
            "\n",
            "Epoch 00038: loss improved from 0.55520 to 0.55141, saving model to Models/weights-improvement-38-0.5514.hdf5\n",
            "Epoch 39/41\n",
            "132574/132574 [==============================] - 269s 2ms/step - loss: 0.5463\n",
            "\n",
            "Epoch 00039: loss improved from 0.55141 to 0.54629, saving model to Models/weights-improvement-39-0.5463.hdf5\n",
            "Epoch 40/41\n",
            "132574/132574 [==============================] - 268s 2ms/step - loss: 0.5392\n",
            "\n",
            "Epoch 00040: loss improved from 0.54629 to 0.53915, saving model to Models/weights-improvement-40-0.5392.hdf5\n",
            "Epoch 41/41\n",
            "132574/132574 [==============================] - 268s 2ms/step - loss: 0.5404\n",
            "\n",
            "Epoch 00041: loss did not improve from 0.53915\n"
          ],
          "name": "stdout"
        },
        {
          "output_type": "execute_result",
          "data": {
            "text/plain": [
              "<keras.callbacks.History at 0x7fde4a1407f0>"
            ]
          },
          "metadata": {
            "tags": []
          },
          "execution_count": 16
        }
      ]
    },
    {
      "cell_type": "markdown",
      "metadata": {
        "id": "_zjbGoepTA3E",
        "colab_type": "text"
      },
      "source": [
        "### Load the Trained model"
      ]
    },
    {
      "cell_type": "code",
      "metadata": {
        "id": "jq_6Ip5ocVj5",
        "colab_type": "code",
        "colab": {}
      },
      "source": [
        "# # load the network weights\n",
        "# filename = \"weights-improvement-19-1.9435.hdf5\"\n",
        "# model.load_weights(filename)\n",
        "# model.compile(loss='categorical_crossentropy', optimizer='adam')"
      ],
      "execution_count": 0,
      "outputs": []
    },
    {
      "cell_type": "markdown",
      "metadata": {
        "id": "aX9JYunATH7e",
        "colab_type": "text"
      },
      "source": [
        "### Assign integers to character"
      ]
    },
    {
      "cell_type": "code",
      "metadata": {
        "id": "oHQK6d0OcaL2",
        "colab_type": "code",
        "colab": {}
      },
      "source": [
        "int_to_char = dict((i, c) for i, c in enumerate(chars))"
      ],
      "execution_count": 0,
      "outputs": []
    },
    {
      "cell_type": "markdown",
      "metadata": {
        "id": "X7kQ7IGITPzy",
        "colab_type": "text"
      },
      "source": [
        "### Text generated by the model"
      ]
    },
    {
      "cell_type": "code",
      "metadata": {
        "id": "qjPfbQDPccx3",
        "colab_type": "code",
        "outputId": "b2733d30-d2fe-482e-feb2-e7c3ac4e8c3a",
        "colab": {
          "base_uri": "https://localhost:8080/",
          "height": 104
        }
      },
      "source": [
        "# pick a random seed\n",
        "start = numpy.random.randint(0, len(dataX)-1)\n",
        "pattern = dataX[start]\n",
        "print(\"Seed:\")\n",
        "print(\"\\\"\", ''.join([int_to_char[value] for value in pattern]), \"\\\"\")\n",
        "# generate characters\n",
        "for i in range(500):\n",
        "  x = numpy.reshape(pattern, (1, len(pattern), 1))\n",
        "  x = x / float(n_vocab)\n",
        "  prediction = model.predict(x, verbose=0)\n",
        "  index = numpy.argmax(prediction)\n",
        "#   print(index)\n",
        "  result = int_to_char[index]\n",
        "  seq_in = [int_to_char[value] for value in pattern]\n",
        "  sys.stdout.write(result)\n",
        "  pattern.append(index)\n",
        "  pattern = pattern[1:len(pattern)]\n",
        "print(\"\\nDone.\")"
      ],
      "execution_count": 19,
      "outputs": [
        {
          "output_type": "stream",
          "text": [
            "Seed:\n",
            "\" e kings argument was that anything that had a head could bebeheaded and that you werent to talk nons \"\n",
            "ensethe king and she was puite dianged oo itll seem to come on and ransi dont because when they make oh littas when she caul soon for the fxecutioner fetch ne ht andbehind himdi bant he peopon it hsom its feet at the end of the least not said alice indignant it i shinke she fane was i dont know the jurors were oicelate so said the duchess and the moral of that is but it did not sneeze off and rarsed oarricd the gryphon and alice was solet mobusion that she was now and the cookfouptaris there wer\n",
            "Done.\n"
          ],
          "name": "stdout"
        }
      ]
    }
  ]
}